{
 "cells": [
  {
   "cell_type": "markdown",
   "metadata": {},
   "source": [
    "### Игра \"Какой алгоритм победит?\""
   ]
  },
  {
   "cell_type": "markdown",
   "metadata": {},
   "source": [
    "В этой игре мы будем тестировать алгоритмы угадывания числа. Наша задача угадать загаданное компьютером число за как можно меньшее число попыток.\n",
    "\n",
    "Для начала имортируем библиотеку Numpy"
   ]
  },
  {
   "cell_type": "code",
   "execution_count": 4,
   "metadata": {},
   "outputs": [],
   "source": [
    "import numpy as np"
   ]
  },
  {
   "cell_type": "markdown",
   "metadata": {},
   "source": [
    "+ Первый алгоритм пытается угадать число \"на авось\"."
   ]
  },
  {
   "cell_type": "code",
   "execution_count": 5,
   "metadata": {},
   "outputs": [],
   "source": [
    "def game_core_v1(number):\n",
    "    '''Просто угадываем на random, никак не используя информацию о больше или меньше.\n",
    "       Функция принимает загаданное число и возвращает число попыток'''\n",
    "    count = 0\n",
    "    while True:\n",
    "        count+=1\n",
    "        predict = np.random.randint(1,101) # предполагаемое число\n",
    "        if number == predict: \n",
    "            return(count) # выход из цикла, если угадали"
   ]
  },
  {
   "cell_type": "markdown",
   "metadata": {},
   "source": [
    "* Второй алгоритм чуточку хитрее. Он также использует \"авось\", но при этом медленно пытается ползти в сторону нужного числа, используя инофрмацию \"больше-меньше\"."
   ]
  },
  {
   "cell_type": "code",
   "execution_count": 6,
   "metadata": {},
   "outputs": [],
   "source": [
    "def game_core_v2(number):\n",
    "    '''Сначала устанавливаем любое random число, а потом уменьшаем или увеличиваем его в зависимости от того, больше оно или меньше нужного.\n",
    "       Функция принимает загаданное число и возвращает число попыток'''\n",
    "    count = 1\n",
    "    predict = np.random.randint(1,101)\n",
    "    while number != predict:\n",
    "        count+=1\n",
    "        if number > predict: \n",
    "            predict += 1\n",
    "        elif number < predict: \n",
    "            predict -= 1\n",
    "    return(count) # выход из цикла, если угадали"
   ]
  },
  {
   "cell_type": "markdown",
   "metadata": {},
   "source": [
    "* Вот мы добрались до третьего алгоритма. В нем тот же \"авось\", но диапазон поиска нужного числа будем сужать раз за разом, пока не угадаем его!"
   ]
  },
  {
   "cell_type": "code",
   "execution_count": 7,
   "metadata": {},
   "outputs": [],
   "source": [
    "def game_core_v3(number):\n",
    "    '''Поиск числа с помощью random, но диапазон сужается раз за разом, используя информацию больше-меньше'''\n",
    "    floor = 1\n",
    "    cell = 100\n",
    "    count = 0    \n",
    "    while True:\n",
    "        predict = np.random.randint(floor,cell+1)\n",
    "        count+=1\n",
    "        if predict == number:\n",
    "            break\n",
    "        elif number > predict: \n",
    "            floor = predict\n",
    "        else: \n",
    "            cell = predict\n",
    "    return(count) # выход из цикла, если угадали"
   ]
  },
  {
   "cell_type": "markdown",
   "metadata": {},
   "source": [
    "* Все, надоело! Никаких \"авось\", только математика! С помощью четвертого алгоритма мы загоним угадываемое число в ловушку и никуда оно от нас не денется!"
   ]
  },
  {
   "cell_type": "code",
   "execution_count": 8,
   "metadata": {},
   "outputs": [],
   "source": [
    "def game_core_v4(number):\n",
    "    '''Раз за разом мы сужаем диапазон поиска числа в 2 раза, пока оно не угадается как среднее арифметическое границ диапазона'''\n",
    "    floor = 1\n",
    "    cell = 101 # верхняя граница на 1 больше, так как при поиске середины мы округляем всегда вниз\n",
    "    count = 0\n",
    "    while True:\n",
    "        count +=1\n",
    "        middle = (floor+cell)//2\n",
    "        if number == middle:\n",
    "            break\n",
    "        elif number > middle:\n",
    "            floor = middle\n",
    "        else:\n",
    "            cell = middle\n",
    "    return count # выход из цикла, если угадали     "
   ]
  },
  {
   "cell_type": "markdown",
   "metadata": {},
   "source": [
    "Ну вот финальная процедура, которая протестирует наши алгоритмы:"
   ]
  },
  {
   "cell_type": "code",
   "execution_count": 9,
   "metadata": {},
   "outputs": [],
   "source": [
    "def score_game(game_core):\n",
    "    '''Запускаем игру 1000 раз, чтобы узнать, как быстро игра угадывает число'''\n",
    "    count_ls = []\n",
    "    np.random.seed(1)  # фиксируем RANDOM SEED, чтобы ваш эксперимент был воспроизводим!\n",
    "    random_array = np.random.randint(1,101, size=(1000))\n",
    "    for number in random_array:\n",
    "        count_ls.append(game_core(number))\n",
    "    score = int(np.mean(count_ls))\n",
    "    print(f\"Алгоритм '{game_core.__name__}' угадывает число в среднем за {score} попыток\")\n",
    "    return(score)"
   ]
  },
  {
   "cell_type": "markdown",
   "metadata": {},
   "source": [
    "А теперь запускаем тест и смотрим кто победил!"
   ]
  },
  {
   "cell_type": "code",
   "execution_count": 10,
   "metadata": {},
   "outputs": [
    {
     "name": "stdout",
     "output_type": "stream",
     "text": [
      "Алгоритм 'game_core_v1' угадывает число в среднем за 101 попыток\n",
      "Алгоритм 'game_core_v2' угадывает число в среднем за 33 попыток\n",
      "Алгоритм 'game_core_v3' угадывает число в среднем за 9 попыток\n",
      "Алгоритм 'game_core_v4' угадывает число в среднем за 5 попыток\n",
      "\n",
      "Минимальное среднее количество попыток: 5. Победил алгоритм 'game_core_v4'!\n"
     ]
    }
   ],
   "source": [
    "attempt_avg = {score_game(game_core_v1) : 'game_core_v1',\n",
    "               score_game(game_core_v2) : 'game_core_v2',\n",
    "               score_game(game_core_v3) : 'game_core_v3',\n",
    "               score_game(game_core_v4) : 'game_core_v4'}  \n",
    "min_avg_attemp = min(attempt_avg.keys())\n",
    "print ()\n",
    "print (\"Минимальное среднее количество попыток: {}. Победил алгоритм '{}'!\".format(min_avg_attemp, attempt_avg[min_avg_attemp]))"
   ]
  },
  {
   "cell_type": "markdown",
   "metadata": {},
   "source": [
    "**Ураа!! Победила математика! Бегом в следующие юниты учить матстатистику!**"
   ]
  },
  {
   "cell_type": "code",
   "execution_count": null,
   "metadata": {},
   "outputs": [],
   "source": []
  }
 ],
 "metadata": {
  "kernelspec": {
   "display_name": "Python 3",
   "language": "python",
   "name": "python3"
  },
  "language_info": {
   "codemirror_mode": {
    "name": "ipython",
    "version": 3
   },
   "file_extension": ".py",
   "mimetype": "text/x-python",
   "name": "python",
   "nbconvert_exporter": "python",
   "pygments_lexer": "ipython3",
   "version": "3.7.6"
  }
 },
 "nbformat": 4,
 "nbformat_minor": 4
}
