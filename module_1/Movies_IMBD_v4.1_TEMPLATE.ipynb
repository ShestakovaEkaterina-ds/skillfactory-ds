{
 "cells": [
  {
   "cell_type": "code",
   "execution_count": 1,
   "metadata": {
    "_cell_guid": "b1076dfc-b9ad-4769-8c92-a6c4dae69d19",
    "_uuid": "8f2839f25d086af736a60e9eeb907d3b93b6e0e5",
    "colab": {},
    "colab_type": "code",
    "id": "U2D2gTdJVp90"
   },
   "outputs": [],
   "source": [
    "import numpy as np\n",
    "import pandas as pd\n",
    "#import seaborn as sns  - не пригодилось\n",
    "#import matplotlib.pyplot as plt - непригодилось\n",
    "from collections import Counter\n",
    "from itertools import combinations"
   ]
  },
  {
   "cell_type": "code",
   "execution_count": 2,
   "metadata": {
    "_cell_guid": "79c7e3d0-c299-4dcb-8224-4455121ee9b0",
    "_uuid": "d629ff2d2480ee46fbb7e2d37f6b5fab8052498a",
    "colab": {},
    "colab_type": "code",
    "id": "oyGfxL3eVp9-"
   },
   "outputs": [
    {
     "data": {
      "text/html": [
       "<div>\n",
       "<style scoped>\n",
       "    .dataframe tbody tr th:only-of-type {\n",
       "        vertical-align: middle;\n",
       "    }\n",
       "\n",
       "    .dataframe tbody tr th {\n",
       "        vertical-align: top;\n",
       "    }\n",
       "\n",
       "    .dataframe thead th {\n",
       "        text-align: right;\n",
       "    }\n",
       "</style>\n",
       "<table border=\"1\" class=\"dataframe\">\n",
       "  <thead>\n",
       "    <tr style=\"text-align: right;\">\n",
       "      <th></th>\n",
       "      <th>imdb_id</th>\n",
       "      <th>budget</th>\n",
       "      <th>revenue</th>\n",
       "      <th>original_title</th>\n",
       "      <th>cast</th>\n",
       "      <th>director</th>\n",
       "      <th>tagline</th>\n",
       "      <th>overview</th>\n",
       "      <th>runtime</th>\n",
       "      <th>genres</th>\n",
       "      <th>production_companies</th>\n",
       "      <th>release_date</th>\n",
       "      <th>vote_average</th>\n",
       "      <th>release_year</th>\n",
       "    </tr>\n",
       "  </thead>\n",
       "  <tbody>\n",
       "    <tr>\n",
       "      <th>169</th>\n",
       "      <td>tt2937898</td>\n",
       "      <td>20000000</td>\n",
       "      <td>12007070</td>\n",
       "      <td>A Most Violent Year</td>\n",
       "      <td>Oscar Isaac|Jessica Chastain|Albert Brooks|Ely...</td>\n",
       "      <td>J.C. Chandor</td>\n",
       "      <td>The result is never in question. Just the path...</td>\n",
       "      <td>A thriller set in New York City during the win...</td>\n",
       "      <td>125</td>\n",
       "      <td>Action|Thriller|Crime|Drama</td>\n",
       "      <td>Participant Media|Imagenation Abu Dhabi FZ|Fil...</td>\n",
       "      <td>12/30/2014</td>\n",
       "      <td>6.4</td>\n",
       "      <td>2014</td>\n",
       "    </tr>\n",
       "    <tr>\n",
       "      <th>1001</th>\n",
       "      <td>tt1259521</td>\n",
       "      <td>30000000</td>\n",
       "      <td>66486080</td>\n",
       "      <td>The Cabin in the Woods</td>\n",
       "      <td>Kristen Connolly|Chris Hemsworth|Anna Hutchiso...</td>\n",
       "      <td>Drew Goddard</td>\n",
       "      <td>If you hear a strange sound outside... have sex</td>\n",
       "      <td>Five college friends spend the weekend at a re...</td>\n",
       "      <td>95</td>\n",
       "      <td>Horror|Thriller</td>\n",
       "      <td>Lionsgate|Mutant Enemy Productions</td>\n",
       "      <td>4/12/2012</td>\n",
       "      <td>6.5</td>\n",
       "      <td>2012</td>\n",
       "    </tr>\n",
       "    <tr>\n",
       "      <th>1228</th>\n",
       "      <td>tt1535109</td>\n",
       "      <td>55000000</td>\n",
       "      <td>95000000</td>\n",
       "      <td>Captain Phillips</td>\n",
       "      <td>Tom Hanks|Catherine Keener|Max Martini|Chris M...</td>\n",
       "      <td>Paul Greengrass</td>\n",
       "      <td>Out here survival is everything.</td>\n",
       "      <td>The true story of Captain Richard Phillips and...</td>\n",
       "      <td>134</td>\n",
       "      <td>Action|Drama|Thriller</td>\n",
       "      <td>Columbia Pictures</td>\n",
       "      <td>10/10/2013</td>\n",
       "      <td>7.7</td>\n",
       "      <td>2013</td>\n",
       "    </tr>\n",
       "    <tr>\n",
       "      <th>784</th>\n",
       "      <td>tt0479997</td>\n",
       "      <td>40000000</td>\n",
       "      <td>88100000</td>\n",
       "      <td>Season of the Witch</td>\n",
       "      <td>Nicolas Cage|Ron Perlman|Ulrich Thomsen|Christ...</td>\n",
       "      <td>Dominic Sena</td>\n",
       "      <td>Not all souls can be saved.</td>\n",
       "      <td>A 14th century Crusader (Cage) returns with hi...</td>\n",
       "      <td>95</td>\n",
       "      <td>Adventure|Fantasy|Action</td>\n",
       "      <td>Atlas Entertainment|Relativity Media</td>\n",
       "      <td>1/7/2011</td>\n",
       "      <td>5.2</td>\n",
       "      <td>2011</td>\n",
       "    </tr>\n",
       "    <tr>\n",
       "      <th>71</th>\n",
       "      <td>tt3488710</td>\n",
       "      <td>35000000</td>\n",
       "      <td>61181942</td>\n",
       "      <td>The Walk</td>\n",
       "      <td>Joseph Gordon-Levitt|Ben Kingsley|Charlotte Le...</td>\n",
       "      <td>Robert Zemeckis</td>\n",
       "      <td>Dream High.</td>\n",
       "      <td>The story of French high-wire artist Philippe ...</td>\n",
       "      <td>123</td>\n",
       "      <td>Adventure|Drama|Thriller</td>\n",
       "      <td>TriStar Pictures|Sony Pictures Entertainment|I...</td>\n",
       "      <td>9/30/2015</td>\n",
       "      <td>6.8</td>\n",
       "      <td>2015</td>\n",
       "    </tr>\n",
       "  </tbody>\n",
       "</table>\n",
       "</div>"
      ],
      "text/plain": [
       "        imdb_id    budget   revenue          original_title  \\\n",
       "169   tt2937898  20000000  12007070     A Most Violent Year   \n",
       "1001  tt1259521  30000000  66486080  The Cabin in the Woods   \n",
       "1228  tt1535109  55000000  95000000        Captain Phillips   \n",
       "784   tt0479997  40000000  88100000     Season of the Witch   \n",
       "71    tt3488710  35000000  61181942                The Walk   \n",
       "\n",
       "                                                   cast         director  \\\n",
       "169   Oscar Isaac|Jessica Chastain|Albert Brooks|Ely...     J.C. Chandor   \n",
       "1001  Kristen Connolly|Chris Hemsworth|Anna Hutchiso...     Drew Goddard   \n",
       "1228  Tom Hanks|Catherine Keener|Max Martini|Chris M...  Paul Greengrass   \n",
       "784   Nicolas Cage|Ron Perlman|Ulrich Thomsen|Christ...     Dominic Sena   \n",
       "71    Joseph Gordon-Levitt|Ben Kingsley|Charlotte Le...  Robert Zemeckis   \n",
       "\n",
       "                                                tagline  \\\n",
       "169   The result is never in question. Just the path...   \n",
       "1001    If you hear a strange sound outside... have sex   \n",
       "1228                   Out here survival is everything.   \n",
       "784                         Not all souls can be saved.   \n",
       "71                                          Dream High.   \n",
       "\n",
       "                                               overview  runtime  \\\n",
       "169   A thriller set in New York City during the win...      125   \n",
       "1001  Five college friends spend the weekend at a re...       95   \n",
       "1228  The true story of Captain Richard Phillips and...      134   \n",
       "784   A 14th century Crusader (Cage) returns with hi...       95   \n",
       "71    The story of French high-wire artist Philippe ...      123   \n",
       "\n",
       "                           genres  \\\n",
       "169   Action|Thriller|Crime|Drama   \n",
       "1001              Horror|Thriller   \n",
       "1228        Action|Drama|Thriller   \n",
       "784      Adventure|Fantasy|Action   \n",
       "71       Adventure|Drama|Thriller   \n",
       "\n",
       "                                   production_companies release_date  \\\n",
       "169   Participant Media|Imagenation Abu Dhabi FZ|Fil...   12/30/2014   \n",
       "1001                 Lionsgate|Mutant Enemy Productions    4/12/2012   \n",
       "1228                                  Columbia Pictures   10/10/2013   \n",
       "784                Atlas Entertainment|Relativity Media     1/7/2011   \n",
       "71    TriStar Pictures|Sony Pictures Entertainment|I...    9/30/2015   \n",
       "\n",
       "      vote_average  release_year  \n",
       "169            6.4          2014  \n",
       "1001           6.5          2012  \n",
       "1228           7.7          2013  \n",
       "784            5.2          2011  \n",
       "71             6.8          2015  "
      ]
     },
     "execution_count": 2,
     "metadata": {},
     "output_type": "execute_result"
    }
   ],
   "source": [
    "data = pd.read_csv('movie_bd_v5.csv')\n",
    "data.sample(5)"
   ]
  },
  {
   "cell_type": "markdown",
   "metadata": {
    "colab_type": "text",
    "id": "DTIt7ezGVp-G"
   },
   "source": [
    "# Предобработка"
   ]
  },
  {
   "cell_type": "code",
   "execution_count": 4,
   "metadata": {
    "colab": {},
    "colab_type": "code",
    "id": "jNb40DwKVp-H"
   },
   "outputs": [],
   "source": [
    "answers = {} # создадим словарь для ответов\n",
    "\n",
    "'''Создадим столбцы, необходимые нам для вычислений'''\n",
    "data['profit'] = data.revenue-data.budget #прибыль\n",
    "data['release_month'] = data['release_date'].apply(lambda x:x[0:(x.find('/'))]) #месяц выхода фильма\n",
    "data['title_length'] = data['original_title'].str.len() #длина названия фильма\n",
    "data['overview_world_cnt'] = data['overview'].apply(lambda x: len(x.split())) #количество слов в описании фильма"
   ]
  },
  {
   "cell_type": "markdown",
   "metadata": {
    "colab_type": "text",
    "id": "YxZaH-nPVp-L"
   },
   "source": [
    "# 1. У какого фильма из списка самый большой бюджет?"
   ]
  },
  {
   "cell_type": "markdown",
   "metadata": {
    "colab_type": "text",
    "id": "Nd-G5gX6Vp-M"
   },
   "source": [
    "Использовать варианты ответов в коде решения запрещено.    \n",
    "Вы думаете и в жизни у вас будут варианты ответов?)"
   ]
  },
  {
   "cell_type": "code",
   "execution_count": 5,
   "metadata": {
    "colab": {},
    "colab_type": "code",
    "id": "dZwb3m28Vp-S"
   },
   "outputs": [],
   "source": [
    "#Вариант решения №1\n",
    "data1 = data[data.budget == data['budget'].max()].reset_index()\n",
    "answers['1'] = data1['original_title'][0]+' ('+data1['imdb_id'][0]+')'\n",
    "del data1"
   ]
  },
  {
   "cell_type": "code",
   "execution_count": 6,
   "metadata": {
    "colab": {},
    "colab_type": "code",
    "id": "OGaoQI7rVp-X"
   },
   "outputs": [],
   "source": [
    "#Вариант решения №2\n",
    "data1 = data.sort_values(['budget'], ascending=False).reset_index()\n",
    "answers['1'] = data1['original_title'][0]+' ('+data1['imdb_id'][0]+')'\n",
    "del data1"
   ]
  },
  {
   "cell_type": "markdown",
   "metadata": {
    "colab_type": "text",
    "id": "FNRbbI3vVp-c"
   },
   "source": [
    "# 2. Какой из фильмов самый длительный (в минутах)?"
   ]
  },
  {
   "cell_type": "code",
   "execution_count": 7,
   "metadata": {
    "colab": {},
    "colab_type": "code",
    "id": "ot-VX2XrVp-g"
   },
   "outputs": [],
   "source": [
    "#Вариант решения №1\n",
    "data2 = data[data.runtime == data.runtime.max()].reset_index()\n",
    "answers['2'] = data2['original_title'][0]+' ('+data2['imdb_id'][0]+')'\n",
    "del data2"
   ]
  },
  {
   "cell_type": "code",
   "execution_count": 8,
   "metadata": {},
   "outputs": [],
   "source": [
    "#Вариант решения №2\n",
    "data2 = data.sort_values(['runtime'], ascending=False).reset_index()\n",
    "answers['2'] = data2['original_title'][0]+' ('+data2['imdb_id'][0]+')'\n",
    "del data2"
   ]
  },
  {
   "cell_type": "markdown",
   "metadata": {
    "colab_type": "text",
    "id": "bapLlpW8Vp-k"
   },
   "source": [
    "# 3. Какой из фильмов самый короткий (в минутах)?\n",
    "\n",
    "\n",
    "\n"
   ]
  },
  {
   "cell_type": "code",
   "execution_count": 13,
   "metadata": {},
   "outputs": [],
   "source": [
    "#Вариант решения №1\n",
    "data3 = data[data.runtime == data.runtime.min()].reset_index()\n",
    "answers['3'] = data3['original_title'][0]+' ('+data3['imdb_id'][0]+')'\n",
    "del data3"
   ]
  },
  {
   "cell_type": "code",
   "execution_count": 14,
   "metadata": {
    "colab": {},
    "colab_type": "code",
    "id": "YBxaSHuAVp-l"
   },
   "outputs": [],
   "source": [
    "#Вариант решения №2\n",
    "data3 = data.sort_values(['runtime'], ascending=True).reset_index()\n",
    "answers['3'] = data3['original_title'][0]+' ('+data3['imdb_id'][0]+')'\n",
    "del data3"
   ]
  },
  {
   "cell_type": "markdown",
   "metadata": {
    "colab_type": "text",
    "id": "TfQbxbfNVp-p"
   },
   "source": [
    "# 4. Какова средняя длительность фильмов?\n"
   ]
  },
  {
   "cell_type": "code",
   "execution_count": 15,
   "metadata": {
    "colab": {},
    "colab_type": "code",
    "id": "5K6dKZYVVp-q"
   },
   "outputs": [],
   "source": [
    "answers['4'] = round(data.runtime.mean())"
   ]
  },
  {
   "cell_type": "markdown",
   "metadata": {
    "colab_type": "text",
    "id": "r5TvbnT_Vp-u"
   },
   "source": [
    "# 5. Каково медианное значение длительности фильмов? "
   ]
  },
  {
   "cell_type": "code",
   "execution_count": 16,
   "metadata": {
    "colab": {},
    "colab_type": "code",
    "id": "iBROplKnVp-v"
   },
   "outputs": [],
   "source": [
    "answers['5'] = round(data.runtime.median())"
   ]
  },
  {
   "cell_type": "markdown",
   "metadata": {
    "colab_type": "text",
    "id": "39P-deDSVp-y"
   },
   "source": [
    "# 6. Какой самый прибыльный фильм?\n",
    "#### Внимание! Здесь и далее под «прибылью» или «убытками» понимается разность между сборами и бюджетом фильма. (прибыль = сборы - бюджет) в нашем датасете это будет (profit = revenue - budget) "
   ]
  },
  {
   "cell_type": "code",
   "execution_count": 19,
   "metadata": {},
   "outputs": [],
   "source": [
    "#Вариант решения №1\n",
    "data6 = data[data.profit == data.profit.max()].reset_index()\n",
    "answers['6'] = data6['original_title'][0]+' ('+data6['imdb_id'][0]+')'\n",
    "del data6"
   ]
  },
  {
   "cell_type": "code",
   "execution_count": 21,
   "metadata": {
    "colab": {},
    "colab_type": "code",
    "id": "UYZh4T9WVp-y"
   },
   "outputs": [],
   "source": [
    "#Вариант решения №2\n",
    "data6 = data.sort_values(['profit'], ascending=False).reset_index()\n",
    "answers['6'] = data6['original_title'][0]+' ('+data6['imdb_id'][0]+')'\n",
    "del data6"
   ]
  },
  {
   "cell_type": "markdown",
   "metadata": {
    "colab_type": "text",
    "id": "M99JmIX4Vp-2"
   },
   "source": [
    "# 7. Какой фильм самый убыточный? "
   ]
  },
  {
   "cell_type": "code",
   "execution_count": 23,
   "metadata": {},
   "outputs": [],
   "source": [
    "#Вариант решения №1\n",
    "data7 = data[data.profit == data.profit.min()].reset_index()\n",
    "answers['7'] = data7['original_title'][0]+' ('+data7['imdb_id'][0]+')'\n",
    "del data7"
   ]
  },
  {
   "cell_type": "code",
   "execution_count": 25,
   "metadata": {
    "colab": {},
    "colab_type": "code",
    "id": "w-D2m4XPVp-3"
   },
   "outputs": [],
   "source": [
    "#Вариант решения №2\n",
    "data7 = data.sort_values(['profit'], ascending=True).reset_index()\n",
    "answers['7'] = data7['original_title'][0]+' ('+data7['imdb_id'][0]+')'\n",
    "del data7"
   ]
  },
  {
   "cell_type": "markdown",
   "metadata": {
    "colab_type": "text",
    "id": "wEOM5ERVVp-6"
   },
   "source": [
    "# 8. У скольких фильмов из датасета объем сборов оказался выше бюджета?"
   ]
  },
  {
   "cell_type": "code",
   "execution_count": 26,
   "metadata": {
    "colab": {},
    "colab_type": "code",
    "id": "y00_7HD6Vp-7"
   },
   "outputs": [],
   "source": [
    "answers['8'] = len(data[data.profit>0])"
   ]
  },
  {
   "cell_type": "markdown",
   "metadata": {
    "colab_type": "text",
    "id": "xhpspA9KVp_A"
   },
   "source": [
    "# 9. Какой фильм оказался самым кассовым в 2008 году?"
   ]
  },
  {
   "cell_type": "code",
   "execution_count": 30,
   "metadata": {},
   "outputs": [],
   "source": [
    "data9 = data[data.release_year == 2008]\n",
    "data9 = data9[data9.revenue == data9.revenue.max()].reset_index()\n",
    "answers['9'] = data9['original_title'][0]+' ('+data9['imdb_id'][0]+')'\n",
    "del data9"
   ]
  },
  {
   "cell_type": "markdown",
   "metadata": {
    "colab_type": "text",
    "id": "Zi4hDKidVp_F"
   },
   "source": [
    "# 10. Самый убыточный фильм за период с 2012 по 2014 г. (включительно)?\n"
   ]
  },
  {
   "cell_type": "code",
   "execution_count": 33,
   "metadata": {},
   "outputs": [],
   "source": [
    "data10 = data[(data.release_year>=2012)&(data.release_year<=2014)]\n",
    "data10 = data10[data10.profit == data10.profit.min()].reset_index()\n",
    "answers['10'] = data10['original_title'][0]+' ('+data10['imdb_id'][0]+')'\n",
    "del data10"
   ]
  },
  {
   "cell_type": "markdown",
   "metadata": {
    "colab_type": "text",
    "id": "EA7Sa9dkVp_I"
   },
   "source": [
    "# 11. Какого жанра фильмов больше всего?"
   ]
  },
  {
   "cell_type": "code",
   "execution_count": 0,
   "metadata": {
    "colab": {},
    "colab_type": "code",
    "id": "zsJAwJ8QVp_J"
   },
   "outputs": [],
   "source": [
    "# эту задачу тоже можно решать разными подходами, попробуй реализовать разные варианты\n",
    "# если будешь добавлять функцию - выноси ее в предобработку что в начале"
   ]
  },
  {
   "cell_type": "code",
   "execution_count": 41,
   "metadata": {},
   "outputs": [],
   "source": [
    "#Вариант решения №1\n",
    "all_genres_ser = pd.Series(data.genres.str.split('|').explode())\n",
    "answers['11'] = all_genres_ser.value_counts().index[0]"
   ]
  },
  {
   "cell_type": "markdown",
   "metadata": {
    "colab_type": "text",
    "id": "Ax6g2C8SVp_M"
   },
   "source": [
    "ВАРИАНТ 2"
   ]
  },
  {
   "cell_type": "code",
   "execution_count": 44,
   "metadata": {
    "colab": {},
    "colab_type": "code",
    "id": "otO3SbrSVp_N"
   },
   "outputs": [],
   "source": [
    "#Вариант решения №2\n",
    "all_genres_counter = Counter(data.genres.str.split('|').explode())\n",
    "answers['11'] = all_genres_counter.most_common(1)[0][0]"
   ]
  },
  {
   "cell_type": "markdown",
   "metadata": {
    "colab_type": "text",
    "id": "T9_bPWpkVp_Q"
   },
   "source": [
    "# 12. Фильмы какого жанра чаще всего становятся прибыльными? "
   ]
  },
  {
   "cell_type": "code",
   "execution_count": 46,
   "metadata": {},
   "outputs": [],
   "source": [
    "#Вариант решения №1\n",
    "data12 = data[data.profit>0]\n",
    "all_genres_ser = pd.Series(data12.genres.str.split('|').explode())\n",
    "answers['12'] = all_genres_ser.value_counts().index[0]\n",
    "del data12"
   ]
  },
  {
   "cell_type": "code",
   "execution_count": 47,
   "metadata": {},
   "outputs": [],
   "source": [
    "#Вариант решения №2\n",
    "data12 = data[data.profit>0]\n",
    "all_genres_counter = Counter(data12.genres.str.split('|').explode())\n",
    "answers['12'] = all_genres_counter.most_common(1)[0][0]\n",
    "del data12"
   ]
  },
  {
   "cell_type": "markdown",
   "metadata": {
    "colab_type": "text",
    "id": "0F23bgsDVp_U"
   },
   "source": [
    "# 13. У какого режиссера самые большие суммарные кассовые сбооры?"
   ]
  },
  {
   "cell_type": "code",
   "execution_count": 56,
   "metadata": {
    "colab": {},
    "colab_type": "code",
    "id": "K6Z3J8ygVp_X",
    "scrolled": false
   },
   "outputs": [],
   "source": [
    "#Вариант решения №1 (выполняется быстрее)\n",
    "sum_revenue = Counter()\n",
    "for ind, row in data.iterrows():\n",
    "    directors = row['director'].split('|')\n",
    "    for director in directors:\n",
    "        sum_revenue[director] += row['revenue']\n",
    "answers['13'] = sum_revenue.most_common(1)[0][0]"
   ]
  },
  {
   "cell_type": "code",
   "execution_count": 57,
   "metadata": {},
   "outputs": [],
   "source": [
    "#Вариант решения №2 (думает значительно дольше)\n",
    "sum_revenue = Counter()\n",
    "directors = data.director.str.split('|').explode().unique()\n",
    "for director in directors:\n",
    "    sum_revenue[director] = data[data.director.str.contains(director)].revenue.sum()\n",
    "answers['13'] = sum_revenue.most_common(1)[0][0]"
   ]
  },
  {
   "cell_type": "markdown",
   "metadata": {
    "colab_type": "text",
    "id": "PsYC9FgRVp_a"
   },
   "source": [
    "# 14. Какой режисер снял больше всего фильмов в стиле Action?"
   ]
  },
  {
   "cell_type": "code",
   "execution_count": 64,
   "metadata": {},
   "outputs": [],
   "source": [
    "#Вариант решения №1\n",
    "data14 = data[data.genres.str.contains('Action')]\n",
    "cnts = Counter()\n",
    "for ind, row in data14.iterrows():\n",
    "    directors = row['director'].split('|')\n",
    "    for director in directors:\n",
    "        cnts[director] += 1\n",
    "answers['14'] = cnts.most_common(1)[0][0]\n",
    "del data14"
   ]
  },
  {
   "cell_type": "code",
   "execution_count": 65,
   "metadata": {},
   "outputs": [],
   "source": [
    "#Вариант решения №2 (также визуально выполняется заметно дольше)\n",
    "data14 = data[data.genres.str.contains('Action')]\n",
    "cnts = Counter()\n",
    "directors = data14.director.str.split('|').explode().unique()\n",
    "for director in directors:\n",
    "    cnts[director] = len(data14[data14.director.str.contains(director)])\n",
    "answers['14'] = cnts.most_common(1)[0][0]\n",
    "del data14"
   ]
  },
  {
   "cell_type": "code",
   "execution_count": 72,
   "metadata": {},
   "outputs": [],
   "source": [
    "#Вариант решения №3 (отдаю предпочтение этому варианту)\n",
    "data14 = data[data.genres.str.contains('Action')]\n",
    "cnts = Counter(data14.director.str.split('|').explode())\n",
    "answers['14'] = cnts.most_common(1)[0][0]\n",
    "del data14"
   ]
  },
  {
   "cell_type": "markdown",
   "metadata": {
    "colab_type": "text",
    "id": "PQ0KciD7Vp_f"
   },
   "source": [
    "# 15. Фильмы с каким актером принесли самые высокие кассовые сборы в 2012 году? "
   ]
  },
  {
   "cell_type": "code",
   "execution_count": 0,
   "metadata": {
    "colab": {},
    "colab_type": "code",
    "id": "aga62oeKVp_g"
   },
   "outputs": [],
   "source": [
    "answers['15'] = 'Chris Hemsworth'"
   ]
  },
  {
   "cell_type": "code",
   "execution_count": 67,
   "metadata": {},
   "outputs": [],
   "source": [
    "#Вариант решения №1\n",
    "data15 = data[data.release_year == 2012]\n",
    "sum_revenue = Counter()\n",
    "for ind, row in data15.iterrows():\n",
    "    casts = row['cast'].split('|')\n",
    "    for cast in casts:\n",
    "        sum_revenue[cast] += row['revenue']\n",
    "answers['15'] = sum_revenue.most_common(1)[0][0]\n",
    "del data15"
   ]
  },
  {
   "cell_type": "code",
   "execution_count": 74,
   "metadata": {},
   "outputs": [],
   "source": [
    "#Вариант решения №2 (и тут подольше)\n",
    "data15 = data[data.release_year == 2012]\n",
    "sum_revenue = Counter()\n",
    "casts = data15.cast.str.split('|').explode().unique()\n",
    "for cast in casts:\n",
    "    sum_revenue[cast] = data15[data15.cast.str.contains(cast)].revenue.sum()\n",
    "answers['15'] = sum_revenue.most_common(1)[0][0]\n",
    "del data15"
   ]
  },
  {
   "cell_type": "markdown",
   "metadata": {
    "colab_type": "text",
    "id": "mWHyyL7QVp_j"
   },
   "source": [
    "# 16. Какой актер снялся в большем количестве высокобюджетных фильмов?"
   ]
  },
  {
   "cell_type": "code",
   "execution_count": 76,
   "metadata": {},
   "outputs": [],
   "source": [
    "data16 = data[data.budget>data.budget.mean()]\n",
    "cnts = Counter(data16.cast.str.split('|').explode())\n",
    "answers['16'] = cnts.most_common(1)[0][0]\n",
    "del data16"
   ]
  },
  {
   "cell_type": "markdown",
   "metadata": {
    "colab_type": "text",
    "id": "NIh6AaW5Vp_n"
   },
   "source": [
    "# 17. В фильмах какого жанра больше всего снимался Nicolas Cage? "
   ]
  },
  {
   "cell_type": "code",
   "execution_count": 78,
   "metadata": {},
   "outputs": [],
   "source": [
    "cnts = Counter()\n",
    "for ind, row in data[data.cast.str.contains('Nicolas Cage')].iterrows():\n",
    "    genreses = row['genres'].split('|')\n",
    "    for genres in genreses:\n",
    "        cnts[genres] += 1\n",
    "answers['17'] = cnts.most_common(1)[0][0]"
   ]
  },
  {
   "cell_type": "markdown",
   "metadata": {
    "colab_type": "text",
    "id": "RqOmPRfWVp_q"
   },
   "source": [
    "# 18. Самый убыточный фильм от Paramount Pictures"
   ]
  },
  {
   "cell_type": "code",
   "execution_count": 124,
   "metadata": {},
   "outputs": [],
   "source": [
    "data18 = data[data.production_companies.str.contains('Paramount Pictures')]\n",
    "data18 = data18.sort_values(['profit'], ascending=True).reset_index()\n",
    "answers['18'] = data18['original_title'][0]+' ('+data18['imdb_id'][0]+')'\n",
    "del data18"
   ]
  },
  {
   "cell_type": "markdown",
   "metadata": {
    "colab_type": "text",
    "id": "vS8Ur6ddVp_u"
   },
   "source": [
    "# 19. Какой год стал самым успешным по суммарным кассовым сборам?"
   ]
  },
  {
   "cell_type": "code",
   "execution_count": 85,
   "metadata": {
    "colab": {},
    "colab_type": "code",
    "id": "Dnbt4GdIVp_v"
   },
   "outputs": [],
   "source": [
    "#Это решение можно было бы записать в одну строку, но она получается слишком длинной\n",
    "data19 = data.groupby(['release_year'])[['revenue']].sum()\n",
    "data19 = data19.sort_values(['revenue'], ascending=False).reset_index()\n",
    "answers['19'] = data19.loc[0]['release_year']\n",
    "del data19"
   ]
  },
  {
   "cell_type": "markdown",
   "metadata": {
    "colab_type": "text",
    "id": "JAzJh4QAVp_z"
   },
   "source": [
    "# 20. Какой самый прибыльный год для студии Warner Bros?"
   ]
  },
  {
   "cell_type": "code",
   "execution_count": 87,
   "metadata": {},
   "outputs": [],
   "source": [
    "data20 = data[data.production_companies.str.contains('Warner Bros')]\n",
    "data20 = data20.groupby(['release_year'])[['profit']].sum()\n",
    "data20 = data20.sort_values(['profit'], ascending=False).reset_index()\n",
    "answers['20'] = data20.loc[0]['release_year']\n",
    "del data20"
   ]
  },
  {
   "cell_type": "markdown",
   "metadata": {
    "colab_type": "text",
    "id": "8Im1S2HRVp_4"
   },
   "source": [
    "# 21. В каком месяце за все годы суммарно вышло больше всего фильмов?"
   ]
  },
  {
   "cell_type": "code",
   "execution_count": 88,
   "metadata": {
    "colab": {},
    "colab_type": "code",
    "id": "lev6TH7gVp_4"
   },
   "outputs": [],
   "source": [
    "answers['21'] = data['release_month'].value_counts().reset_index().loc[0]['index']"
   ]
  },
  {
   "cell_type": "markdown",
   "metadata": {
    "colab_type": "text",
    "id": "uAJsZ_NeVp_7"
   },
   "source": [
    "# 22. Сколько суммарно вышло фильмов летом? (за июнь, июль, август)"
   ]
  },
  {
   "cell_type": "code",
   "execution_count": 89,
   "metadata": {},
   "outputs": [],
   "source": [
    "answers['22'] = len(data.query('release_month in [\"6\", \"7\", \"8\"]'))"
   ]
  },
  {
   "cell_type": "markdown",
   "metadata": {
    "colab_type": "text",
    "id": "G94ppOY1VqAA"
   },
   "source": [
    "# 23. Для какого режиссера зима – самое продуктивное время года? "
   ]
  },
  {
   "cell_type": "code",
   "execution_count": 92,
   "metadata": {},
   "outputs": [],
   "source": [
    "data23 = data.query('release_month in [\"12\", \"1\", \"2\"]')\n",
    "cnts = Counter(data23.director.str.split('|').explode())\n",
    "answers['23'] = cnts.most_common(1)[0][0]\n",
    "del data23"
   ]
  },
  {
   "cell_type": "markdown",
   "metadata": {
    "colab_type": "text",
    "id": "RBo0JVjVVqAF"
   },
   "source": [
    "# 24. Какая студия дает самые длинные названия своим фильмам по количеству символов?"
   ]
  },
  {
   "cell_type": "code",
   "execution_count": 96,
   "metadata": {},
   "outputs": [],
   "source": [
    "#Вариант решения №1\n",
    "companies = data.production_companies.str.split('|').explode().unique()\n",
    "companies_mean_lentitle = Counter()\n",
    "for company in companies:\n",
    "    companies_mean_lentitle[company] = data[data['production_companies'].str.contains(company)]['title_length'].mean()\n",
    "answers['24'] = companies_mean_lentitle.most_common(1)[0][0]"
   ]
  },
  {
   "cell_type": "code",
   "execution_count": 98,
   "metadata": {},
   "outputs": [],
   "source": [
    "#Вариант решения №2\n",
    "companies = data.production_companies.str.split('|').explode().unique()\n",
    "max_value = 0\n",
    "for company in companies:\n",
    "    cur_value = data[data['production_companies'].str.contains(company)]['title_length'].mean()\n",
    "    if cur_value > max_value:\n",
    "        max_value = cur_value\n",
    "        result_company = company\n",
    "answers['24'] = result_company"
   ]
  },
  {
   "cell_type": "markdown",
   "metadata": {
    "colab_type": "text",
    "id": "9G0hbvR7VqAK"
   },
   "source": [
    "# 25. Описание фильмов какой студии в среднем самые длинные по количеству слов?"
   ]
  },
  {
   "cell_type": "code",
   "execution_count": 100,
   "metadata": {
    "colab": {},
    "colab_type": "code",
    "id": "Ge2GsLNxVqAK"
   },
   "outputs": [],
   "source": [
    "#Вариант №1\n",
    "companies = data['production_companies'].str.split('|').explode().unique()\n",
    "companies_mean_overview = Counter()\n",
    "for company in companies:\n",
    "    companies_mean_overview[company] = data[data['production_companies'].str.contains(company)]['overview_world_cnt'].mean()\n",
    "answers['25'] = companies_mean_overview.most_common(1)[0][0]"
   ]
  },
  {
   "cell_type": "code",
   "execution_count": 101,
   "metadata": {},
   "outputs": [],
   "source": [
    "#Вариант №2\n",
    "companies = data['production_companies'].str.split('|').explode().unique()\n",
    "max_value = 0\n",
    "for company in companies:\n",
    "    cur_value = data[data['production_companies'].str.contains(company)]['overview_world_cnt'].mean()\n",
    "    if cur_value > max_value:\n",
    "        max_value = cur_value\n",
    "        result_company = company\n",
    "answers['25'] = result_company"
   ]
  },
  {
   "cell_type": "markdown",
   "metadata": {
    "colab_type": "text",
    "id": "FJ1AFt90VqAP"
   },
   "source": [
    "# 26. Какие фильмы входят в 1 процент лучших по рейтингу? \n",
    "по vote_average"
   ]
  },
  {
   "cell_type": "code",
   "execution_count": 131,
   "metadata": {},
   "outputs": [
    {
     "name": "stdout",
     "output_type": "stream",
     "text": [
      "Inside Out, The Dark Knight, 12 Years a Slave\n"
     ]
    }
   ],
   "source": [
    "percentile99 = np.percentile(data.vote_average, 99)\n",
    "film_list = data[data.vote_average>=percentile99].original_title.str.cat(sep='|').split('|')\n",
    "answers['26'] = ', '.join(sorted(film_list))\n",
    "\n",
    "'''Я помню, что варианты ответа использовать в решении нельзя)) а как мне тогда узнать какой ответ выбрать?\n",
    "Ведь полного соответствия нет. Просматривать вручную что ли? Но я же прогаммист...'''\n",
    "sf_answers = ['Inside Out, The Dark Knight, 12 Years a Slave', \n",
    "              'BloodRayne, The Adventures of Rocky & Bullwinkle', \n",
    "              'Batman Begins, The Lord of the Rings: The Return of the King, Upside Down', \n",
    "              '300, Lucky Number Slevin, Kill Bill: Vol. 1', \n",
    "              'Upside Down, Inside Out, Iron Man']\n",
    "for films in sf_answers:\n",
    "    if set(films.split(', ')).issubset(film_list):\n",
    "        print(films)"
   ]
  },
  {
   "cell_type": "markdown",
   "metadata": {
    "colab_type": "text",
    "id": "MdXsUXbCVqAV"
   },
   "source": [
    "# 27. Какие актеры чаще всего снимаются в одном фильме вместе?\n"
   ]
  },
  {
   "cell_type": "code",
   "execution_count": null,
   "metadata": {},
   "outputs": [],
   "source": [
    "answers['27'] = 'Daniel Radcliffe & Rupert Grint'"
   ]
  },
  {
   "cell_type": "code",
   "execution_count": 122,
   "metadata": {},
   "outputs": [
    {
     "name": "stdout",
     "output_type": "stream",
     "text": [
      "Daniel Radcliffe & Rupert Grint\n"
     ]
    }
   ],
   "source": [
    "cast_pairs = Counter()\n",
    "for casts in data.cast.str.split('|'):\n",
    "    casts = sorted(casts)\n",
    "    for cast_pair in combinations(casts, 2):\n",
    "        cast_pairs[' & '.join(cast_pair)] += 1\n",
    "cast_pairs = cast_pairs.most_common()\n",
    "max_value = cast_pairs[0][1]\n",
    "answer27 = ''\n",
    "for cast_pair in cast_pairs:\n",
    "    if cast_pair[1] != max_value:\n",
    "        break\n",
    "    answer27 += cast_pair[0]+', '\n",
    "answers['27'] = answer27[0:-2]\n",
    "                \n",
    "\"\"\"Аналогично заданию 26: чтобы не искать правильный ответ вручную, я найду его программно\"\"\"\n",
    "sf_answers = ['Johnny Depp & Helena Bonham Carter', \n",
    "              'Ben Stiller & Owen Wilson', \n",
    "              'Vin Diesel & Paul Walker', \n",
    "              'Adam Sandler & Kevin James', \n",
    "              'Daniel Radcliffe & Rupert Grint']\n",
    "for pair in sf_answers:\n",
    "    sort_pair = ' & '.join(sorted(pair.split(' & ')))\n",
    "    if sort_pair in answer27:\n",
    "        print(pair)"
   ]
  },
  {
   "cell_type": "markdown",
   "metadata": {
    "colab_type": "text",
    "id": "U0nONFnGVqAX"
   },
   "source": [
    "# Submission"
   ]
  },
  {
   "cell_type": "code",
   "execution_count": 132,
   "metadata": {
    "colab": {},
    "colab_type": "code",
    "id": "IfcaRO9-VqAX",
    "outputId": "0f132912-32bb-4196-c98c-abfbc4ad5a5f"
   },
   "outputs": [
    {
     "data": {
      "text/plain": [
       "{'1': 'Pirates of the Caribbean: On Stranger Tides (tt1298650)',\n",
       " '2': 'Gods and Generals (tt0279111)',\n",
       " '3': 'Winnie the Pooh (tt1449283)',\n",
       " '4': 110,\n",
       " '5': 107,\n",
       " '6': 'Avatar (tt0499549)',\n",
       " '7': 'The Lone Ranger (tt1210819)',\n",
       " '8': 1478,\n",
       " '9': 'The Dark Knight (tt0468569)',\n",
       " '10': 'The Lone Ranger (tt1210819)',\n",
       " '11': 'Drama',\n",
       " '12': 'Drama',\n",
       " '13': 'Peter Jackson',\n",
       " '14': 'Robert Rodriguez',\n",
       " '15': 'Chris Hemsworth',\n",
       " '16': 'Matt Damon',\n",
       " '17': 'Action',\n",
       " '18': 'K-19: The Widowmaker (tt0267626)',\n",
       " '19': 2015,\n",
       " '20': 2014,\n",
       " '21': '9',\n",
       " '22': 450,\n",
       " '23': 'Peter Jackson',\n",
       " '24': 'Four By Two Productions',\n",
       " '25': 'Midnight Picture Show',\n",
       " '26': '12 Years a Slave, 3 Idiots, Big Hero 6, Dallas Buyers Club, Eternal Sunshine of the Spotless Mind, Gone Girl, Guardians of the Galaxy, Her, Inception, Inside Out, Interstellar, Memento, Mr. Nobody, Prisoners, Room, Spotlight, The Dark Knight, The Fault in Our Stars, The Grand Budapest Hotel, The Imitation Game, The Lord of the Rings: The Fellowship of the Ring, The Lord of the Rings: The Return of the King, The Lord of the Rings: The Two Towers, The Pianist, The Prestige, The Theory of Everything, The Wolf of Wall Street, There Will Be Blood',\n",
       " '27': 'Daniel Radcliffe & Emma Watson, Daniel Radcliffe & Rupert Grint, Emma Watson & Rupert Grint'}"
      ]
     },
     "execution_count": 132,
     "metadata": {},
     "output_type": "execute_result"
    }
   ],
   "source": [
    "# в конце можно посмотреть свои ответы к каждому вопросу\n",
    "answers"
   ]
  },
  {
   "cell_type": "code",
   "execution_count": 133,
   "metadata": {
    "colab": {},
    "colab_type": "code",
    "id": "SiRmHPl8VqAd"
   },
   "outputs": [
    {
     "data": {
      "text/plain": [
       "27"
      ]
     },
     "execution_count": 133,
     "metadata": {},
     "output_type": "execute_result"
    }
   ],
   "source": [
    "# и убедиться что ни чего не пропустил)\n",
    "len(answers)"
   ]
  }
 ],
 "metadata": {
  "colab": {
   "name": "Copy of [SF-DST] Movies IMBD v4.1 TEMPLATE.ipynb",
   "provenance": []
  },
  "kernelspec": {
   "display_name": "Python 3",
   "language": "python",
   "name": "python3"
  },
  "language_info": {
   "codemirror_mode": {
    "name": "ipython",
    "version": 3
   },
   "file_extension": ".py",
   "mimetype": "text/x-python",
   "name": "python",
   "nbconvert_exporter": "python",
   "pygments_lexer": "ipython3",
   "version": "3.7.6"
  }
 },
 "nbformat": 4,
 "nbformat_minor": 1
}
