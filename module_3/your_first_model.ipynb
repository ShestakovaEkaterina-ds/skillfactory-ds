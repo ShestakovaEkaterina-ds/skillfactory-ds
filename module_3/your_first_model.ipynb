{
 "cells": [
  {
   "cell_type": "markdown",
   "metadata": {},
   "source": [
    "# Загрузка Pandas и очистка данных"
   ]
  },
  {
   "cell_type": "code",
   "execution_count": 61,
   "metadata": {},
   "outputs": [],
   "source": [
    "import pandas as pd\n",
    "import re\n",
    "import numpy as np\n",
    "import matplotlib.pyplot as plt\n",
    "import seaborn as sns\n",
    "import requests as req\n",
    "from datetime import datetime, timedelta\n",
    "%matplotlib inline"
   ]
  },
  {
   "cell_type": "code",
   "execution_count": 2,
   "metadata": {},
   "outputs": [],
   "source": [
    "# pip install bs4\n",
    "from bs4 import BeautifulSoup"
   ]
  },
  {
   "cell_type": "markdown",
   "metadata": {},
   "source": [
    "Исходный датасет сохраним в переменную df_raw"
   ]
  },
  {
   "cell_type": "code",
   "execution_count": 3,
   "metadata": {},
   "outputs": [],
   "source": [
    "df_raw = pd.read_csv('main_task.csv')"
   ]
  },
  {
   "cell_type": "code",
   "execution_count": 4,
   "metadata": {},
   "outputs": [],
   "source": [
    "pd.set_option('display.max_rows', 50)  # показывать больше строк\n",
    "pd.set_option('display.max_columns', 200)  # показывать больше колонок"
   ]
  },
  {
   "cell_type": "markdown",
   "metadata": {},
   "source": [
    "Посмотрим на наш датасет:"
   ]
  },
  {
   "cell_type": "code",
   "execution_count": 5,
   "metadata": {},
   "outputs": [
    {
     "name": "stdout",
     "output_type": "stream",
     "text": [
      "<class 'pandas.core.frame.DataFrame'>\n",
      "RangeIndex: 40000 entries, 0 to 39999\n",
      "Data columns (total 10 columns):\n",
      " #   Column             Non-Null Count  Dtype  \n",
      "---  ------             --------------  -----  \n",
      " 0   Restaurant_id      40000 non-null  object \n",
      " 1   City               40000 non-null  object \n",
      " 2   Cuisine Style      30717 non-null  object \n",
      " 3   Ranking            40000 non-null  float64\n",
      " 4   Rating             40000 non-null  float64\n",
      " 5   Price Range        26114 non-null  object \n",
      " 6   Number of Reviews  37457 non-null  float64\n",
      " 7   Reviews            40000 non-null  object \n",
      " 8   URL_TA             40000 non-null  object \n",
      " 9   ID_TA              40000 non-null  object \n",
      "dtypes: float64(3), object(7)\n",
      "memory usage: 3.1+ MB\n"
     ]
    }
   ],
   "source": [
    "df_raw.info()"
   ]
  },
  {
   "cell_type": "code",
   "execution_count": 6,
   "metadata": {},
   "outputs": [
    {
     "data": {
      "text/html": [
       "<div>\n",
       "<style scoped>\n",
       "    .dataframe tbody tr th:only-of-type {\n",
       "        vertical-align: middle;\n",
       "    }\n",
       "\n",
       "    .dataframe tbody tr th {\n",
       "        vertical-align: top;\n",
       "    }\n",
       "\n",
       "    .dataframe thead th {\n",
       "        text-align: right;\n",
       "    }\n",
       "</style>\n",
       "<table border=\"1\" class=\"dataframe\">\n",
       "  <thead>\n",
       "    <tr style=\"text-align: right;\">\n",
       "      <th></th>\n",
       "      <th>Restaurant_id</th>\n",
       "      <th>City</th>\n",
       "      <th>Cuisine Style</th>\n",
       "      <th>Ranking</th>\n",
       "      <th>Rating</th>\n",
       "      <th>Price Range</th>\n",
       "      <th>Number of Reviews</th>\n",
       "      <th>Reviews</th>\n",
       "      <th>URL_TA</th>\n",
       "      <th>ID_TA</th>\n",
       "    </tr>\n",
       "  </thead>\n",
       "  <tbody>\n",
       "    <tr>\n",
       "      <th>0</th>\n",
       "      <td>id_5569</td>\n",
       "      <td>Paris</td>\n",
       "      <td>['European', 'French', 'International']</td>\n",
       "      <td>5570.0</td>\n",
       "      <td>3.5</td>\n",
       "      <td>$$ - $$$</td>\n",
       "      <td>194.0</td>\n",
       "      <td>[['Good food at your doorstep', 'A good hotel ...</td>\n",
       "      <td>/Restaurant_Review-g187147-d1912643-Reviews-R_...</td>\n",
       "      <td>d1912643</td>\n",
       "    </tr>\n",
       "    <tr>\n",
       "      <th>1</th>\n",
       "      <td>id_1535</td>\n",
       "      <td>Stockholm</td>\n",
       "      <td>NaN</td>\n",
       "      <td>1537.0</td>\n",
       "      <td>4.0</td>\n",
       "      <td>NaN</td>\n",
       "      <td>10.0</td>\n",
       "      <td>[['Unique cuisine', 'Delicious Nepalese food']...</td>\n",
       "      <td>/Restaurant_Review-g189852-d7992032-Reviews-Bu...</td>\n",
       "      <td>d7992032</td>\n",
       "    </tr>\n",
       "    <tr>\n",
       "      <th>2</th>\n",
       "      <td>id_352</td>\n",
       "      <td>London</td>\n",
       "      <td>['Japanese', 'Sushi', 'Asian', 'Grill', 'Veget...</td>\n",
       "      <td>353.0</td>\n",
       "      <td>4.5</td>\n",
       "      <td>$$$$</td>\n",
       "      <td>688.0</td>\n",
       "      <td>[['Catch up with friends', 'Not exceptional'],...</td>\n",
       "      <td>/Restaurant_Review-g186338-d8632781-Reviews-RO...</td>\n",
       "      <td>d8632781</td>\n",
       "    </tr>\n",
       "    <tr>\n",
       "      <th>3</th>\n",
       "      <td>id_3456</td>\n",
       "      <td>Berlin</td>\n",
       "      <td>NaN</td>\n",
       "      <td>3458.0</td>\n",
       "      <td>5.0</td>\n",
       "      <td>NaN</td>\n",
       "      <td>3.0</td>\n",
       "      <td>[[], []]</td>\n",
       "      <td>/Restaurant_Review-g187323-d1358776-Reviews-Es...</td>\n",
       "      <td>d1358776</td>\n",
       "    </tr>\n",
       "    <tr>\n",
       "      <th>4</th>\n",
       "      <td>id_615</td>\n",
       "      <td>Munich</td>\n",
       "      <td>['German', 'Central European', 'Vegetarian Fri...</td>\n",
       "      <td>621.0</td>\n",
       "      <td>4.0</td>\n",
       "      <td>$$ - $$$</td>\n",
       "      <td>84.0</td>\n",
       "      <td>[['Best place to try a Bavarian food', 'Nice b...</td>\n",
       "      <td>/Restaurant_Review-g187309-d6864963-Reviews-Au...</td>\n",
       "      <td>d6864963</td>\n",
       "    </tr>\n",
       "  </tbody>\n",
       "</table>\n",
       "</div>"
      ],
      "text/plain": [
       "  Restaurant_id       City                                      Cuisine Style  \\\n",
       "0       id_5569      Paris            ['European', 'French', 'International']   \n",
       "1       id_1535  Stockholm                                                NaN   \n",
       "2        id_352     London  ['Japanese', 'Sushi', 'Asian', 'Grill', 'Veget...   \n",
       "3       id_3456     Berlin                                                NaN   \n",
       "4        id_615     Munich  ['German', 'Central European', 'Vegetarian Fri...   \n",
       "\n",
       "   Ranking  Rating Price Range  Number of Reviews  \\\n",
       "0   5570.0     3.5    $$ - $$$              194.0   \n",
       "1   1537.0     4.0         NaN               10.0   \n",
       "2    353.0     4.5        $$$$              688.0   \n",
       "3   3458.0     5.0         NaN                3.0   \n",
       "4    621.0     4.0    $$ - $$$               84.0   \n",
       "\n",
       "                                             Reviews  \\\n",
       "0  [['Good food at your doorstep', 'A good hotel ...   \n",
       "1  [['Unique cuisine', 'Delicious Nepalese food']...   \n",
       "2  [['Catch up with friends', 'Not exceptional'],...   \n",
       "3                                           [[], []]   \n",
       "4  [['Best place to try a Bavarian food', 'Nice b...   \n",
       "\n",
       "                                              URL_TA     ID_TA  \n",
       "0  /Restaurant_Review-g187147-d1912643-Reviews-R_...  d1912643  \n",
       "1  /Restaurant_Review-g189852-d7992032-Reviews-Bu...  d7992032  \n",
       "2  /Restaurant_Review-g186338-d8632781-Reviews-RO...  d8632781  \n",
       "3  /Restaurant_Review-g187323-d1358776-Reviews-Es...  d1358776  \n",
       "4  /Restaurant_Review-g187309-d6864963-Reviews-Au...  d6864963  "
      ]
     },
     "execution_count": 6,
     "metadata": {},
     "output_type": "execute_result"
    }
   ],
   "source": [
    "df_raw.head()"
   ]
  },
  {
   "cell_type": "markdown",
   "metadata": {},
   "source": [
    "Работать будем с переменной df_prepare, удалим колонки, которые для модели бесполезны:"
   ]
  },
  {
   "cell_type": "code",
   "execution_count": 7,
   "metadata": {
    "scrolled": true
   },
   "outputs": [],
   "source": [
    "df_prepare = df_raw\n",
    "df_prepare = df_prepare.drop(['Restaurant_id', 'URL_TA', 'ID_TA'], axis=1)"
   ]
  },
  {
   "cell_type": "markdown",
   "metadata": {},
   "source": [
    "Вначале разберемся с колонкой City. Она, как мы видим, без пропусков."
   ]
  },
  {
   "cell_type": "code",
   "execution_count": 8,
   "metadata": {},
   "outputs": [
    {
     "data": {
      "text/plain": [
       "31"
      ]
     },
     "execution_count": 8,
     "metadata": {},
     "output_type": "execute_result"
    }
   ],
   "source": [
    "df_prepare.City.nunique()"
   ]
  },
  {
   "cell_type": "code",
   "execution_count": 9,
   "metadata": {},
   "outputs": [
    {
     "data": {
      "text/plain": [
       "London        5757\n",
       "Paris         4897\n",
       "Madrid        3108\n",
       "Barcelona     2734\n",
       "Berlin        2155\n",
       "Milan         2133\n",
       "Rome          2078\n",
       "Prague        1443\n",
       "Lisbon        1300\n",
       "Vienna        1166\n",
       "Amsterdam     1086\n",
       "Brussels      1060\n",
       "Hamburg        949\n",
       "Munich         893\n",
       "Lyon           892\n",
       "Stockholm      820\n",
       "Budapest       816\n",
       "Warsaw         727\n",
       "Dublin         673\n",
       "Copenhagen     659\n",
       "Athens         628\n",
       "Edinburgh      596\n",
       "Zurich         538\n",
       "Oporto         513\n",
       "Geneva         481\n",
       "Krakow         443\n",
       "Oslo           385\n",
       "Helsinki       376\n",
       "Bratislava     301\n",
       "Luxembourg     210\n",
       "Ljubljana      183\n",
       "Name: City, dtype: int64"
      ]
     },
     "execution_count": 9,
     "metadata": {},
     "output_type": "execute_result"
    }
   ],
   "source": [
    "df_prepare.City.value_counts()"
   ]
  },
  {
   "cell_type": "code",
   "execution_count": 10,
   "metadata": {},
   "outputs": [
    {
     "data": {
      "text/plain": [
       "<matplotlib.axes._subplots.AxesSubplot at 0x10c792c8>"
      ]
     },
     "execution_count": 10,
     "metadata": {},
     "output_type": "execute_result"
    },
    {
     "data": {
      "image/png": "[encoded data removed]",
      "text/plain": [
       "<Figure size 432x288 with 1 Axes>"
      ]
     },
     "metadata": {
      "needs_background": "light"
     },
     "output_type": "display_data"
    }
   ],
   "source": [
    "df_prepare.City.hist(xrot=90)"
   ]
  },
  {
   "cell_type": "markdown",
   "metadata": {},
   "source": [
    "Судя по графику и по сумме значений для каждого города, все города значимы, убирать, заменять их не будем. Так как признак категориальный, то переведем его в Dummy переменные. Чтобы не загромождать исходный датасет, все, что связано с городами, будем хранить в отдельном датасете City_dummies."
   ]
  },
  {
   "cell_type": "code",
   "execution_count": 11,
   "metadata": {},
   "outputs": [],
   "source": [
    "City_dummies = pd.get_dummies(df_prepare.City)\n",
    "Cities_columns = City_dummies.columns\n",
    "City_dummies = pd.concat([df_prepare['City'], City_dummies], axis=1)"
   ]
  },
  {
   "cell_type": "markdown",
   "metadata": {},
   "source": [
    "На основе данных о городах создадим новые признаки:"
   ]
  },
  {
   "cell_type": "code",
   "execution_count": 12,
   "metadata": {
    "scrolled": true
   },
   "outputs": [
    {
     "data": {
      "text/plain": [
       "Index(['Amsterdam', 'Athens', 'Barcelona', 'Berlin', 'Bratislava', 'Brussels',\n",
       "       'Budapest', 'Copenhagen', 'Dublin', 'Edinburgh', 'Geneva', 'Hamburg',\n",
       "       'Helsinki', 'Krakow', 'Lisbon', 'Ljubljana', 'London', 'Luxembourg',\n",
       "       'Lyon', 'Madrid', 'Milan', 'Munich', 'Oporto', 'Oslo', 'Paris',\n",
       "       'Prague', 'Rome', 'Stockholm', 'Vienna', 'Warsaw', 'Zurich'],\n",
       "      dtype='object')"
      ]
     },
     "execution_count": 12,
     "metadata": {},
     "output_type": "execute_result"
    }
   ],
   "source": [
    "Cities_columns"
   ]
  },
  {
   "cell_type": "code",
   "execution_count": 13,
   "metadata": {},
   "outputs": [],
   "source": [
    "# Является ли город столицей\n",
    "Capitals = {'Amsterdam': 1, 'Athens': 1, 'Barcelona': 0, 'Berlin': 1, 'Bratislava': 1, 'Brussels': 1,\n",
    "            'Budapest': 1, 'Copenhagen': 1, 'Dublin': 1, 'Edinburgh': 1, 'Geneva': 0, 'Hamburg': 0,\n",
    "            'Helsinki': 1, 'Krakow': 0, 'Lisbon': 1, 'Ljubljana': 1, 'London': 1, 'Luxembourg': 1,\n",
    "            'Lyon': 0, 'Madrid': 1, 'Milan': 0, 'Munich': 0, 'Oporto': 0, 'Oslo': 1, 'Paris': 1,\n",
    "            'Prague': 1, 'Rome': 1, 'Stockholm': 1, 'Vienna': 1, 'Warsaw': 1, 'Zurich': 0}\n",
    "City_dummies['Capital'] = City_dummies['City'].map(Capitals)"
   ]
  },
  {
   "cell_type": "markdown",
   "metadata": {},
   "source": [
    "Воспользуемся данными сайта https://www.numbeo.com/, напишем различные рейтинги городов."
   ]
  },
  {
   "cell_type": "code",
   "execution_count": 98,
   "metadata": {},
   "outputs": [],
   "source": [
    "resp = req.get(\n",
    "    \"https://www.numbeo.com/cost-of-living/region_rankings_current.jsp?region=150\")\n",
    "soup = BeautifulSoup(resp.text, 'lxml')"
   ]
  },
  {
   "cell_type": "code",
   "execution_count": 15,
   "metadata": {},
   "outputs": [],
   "source": [
    "tab = soup.find(\"table\", id=\"t2\")\n",
    "cost_living = {}  # стоимость жизни\n",
    "rent_ind = {}  # индекс аренды\n",
    "gros_ind = {}  # индекс цен на продовольственные товары\n",
    "rest_price_ind = {}  # индекс цен в ресторанах\n",
    "purch_ind = {}  # индекс покупательской способности\n",
    "for tr in tab.find_all('tr')[1:]:\n",
    "    tds = tr.find_all('td')\n",
    "    city = tds[1].text[0:tds[1].text.find(',')]\n",
    "    if city.find('(') > 0:\n",
    "        city = city[0: city.find(' ')]\n",
    "    city = city.replace('Porto', 'Oporto')\n",
    "\n",
    "    if city in Cities_columns:\n",
    "        cost_living[city] = float(tds[2].text)\n",
    "        rent_ind[city] = float(tds[3].text)\n",
    "        gros_ind[city] = float(tds[5].text)\n",
    "        rest_price_ind[city] = float(tds[6].text)\n",
    "        purch_ind[city] = float(tds[7].text)\n",
    "City_dummies['living_ind'] = City_dummies['City'].map(cost_living)\n",
    "City_dummies['rent_ind'] = City_dummies['City'].map(rent_ind)\n",
    "City_dummies['gros_ind'] = City_dummies['City'].map(gros_ind)\n",
    "City_dummies['rest_ind'] = City_dummies['City'].map(rest_price_ind)\n",
    "City_dummies['purch_ind'] = City_dummies['City'].map(purch_ind)"
   ]
  },
  {
   "cell_type": "code",
   "execution_count": 16,
   "metadata": {},
   "outputs": [],
   "source": [
    "resp = req.get(\n",
    "    \"https://www.numbeo.com/quality-of-life/region_rankings_current.jsp?region=150\")\n",
    "soup = BeautifulSoup(resp.text, 'lxml')"
   ]
  },
  {
   "cell_type": "code",
   "execution_count": 17,
   "metadata": {},
   "outputs": [],
   "source": [
    "tab = soup.find(\"table\", id=\"t2\")\n",
    "quality_ind = {}  # индекс качества жизни\n",
    "safety_ind = {}  # индекс безопасности\n",
    "healf_ind = {}  # индекс здоровья\n",
    "property_ratio = {}  # индекc отношения уровня жизни к стоимости недвижимости\n",
    "traffic_ind = {}  # индекс транспортной загруженности\n",
    "pollution_ind = {}  # индекс загрязненности\n",
    "climate_ind = {}  # индекс климата\n",
    "cnt = 0\n",
    "for tr in tab.find_all('tr')[1:]:\n",
    "    tds = tr.find_all('td')\n",
    "    city = tds[1].text[0:tds[1].text.find(',')]\n",
    "    if city.find('(') > 0:\n",
    "        city = city[0: city.find(' ')]\n",
    "    city = city.replace('Porto', 'Oporto')\n",
    "\n",
    "    if city in Cities_columns:\n",
    "        quality_ind[city] = float(tds[2].text)\n",
    "        safety_ind[city] = float(tds[4].text)\n",
    "        healf_ind[city] = float(tds[5].text)\n",
    "        property_ratio[city] = float(tds[7].text)\n",
    "        traffic_ind[city] = float(tds[8].text)\n",
    "        pollution_ind[city] = float(tds[9].text)\n",
    "        climate_ind[city] = float(tds[10].text)\n",
    "City_dummies['quality_ind'] = City_dummies['City'].map(quality_ind)\n",
    "City_dummies['safety_ind'] = City_dummies['City'].map(safety_ind)\n",
    "City_dummies['healf_ind'] = City_dummies['City'].map(healf_ind)\n",
    "City_dummies['property_ratio'] = City_dummies['City'].map(property_ratio)\n",
    "City_dummies['traffic_ind'] = City_dummies['City'].map(traffic_ind)\n",
    "City_dummies['pollution_ind'] = City_dummies['City'].map(pollution_ind)\n",
    "City_dummies['climate_ind'] = City_dummies['City'].map(climate_ind)"
   ]
  },
  {
   "cell_type": "code",
   "execution_count": 18,
   "metadata": {},
   "outputs": [],
   "source": [
    "# Туристический рейтинг городов в 2019 г.(по даным euromonitor.com)\n",
    "turism = {'Amsterdam': 25, 'Athens': 43, 'Barcelona': 33, 'Berlin': 41, 'Bratislava': 101, 'Brussels': 60,\n",
    "          'Budapest': 62, 'Copenhagen': 71, 'Dublin': 50, 'Edinburgh': 101, 'Geneva': 101, 'Hamburg': 101,\n",
    "          'Helsinki': 101, 'Krakow': 74, 'Lisbon': 63, 'Ljubljana': 101, 'London': 3, 'Luxembourg': 101,\n",
    "          'Lyon': 101, 'Madrid': 47, 'Milan': 35, 'Munich': 56, 'Oporto': 96, 'Oslo': 101, 'Paris': 6,\n",
    "          'Prague': 22, 'Rome': 16, 'Stockholm': 88, 'Vienna': 37, 'Warsaw': 83, 'Zurich': 101}\n",
    "City_dummies['turism_ind'] = City_dummies['City'].map(turism)"
   ]
  },
  {
   "cell_type": "code",
   "execution_count": 19,
   "metadata": {},
   "outputs": [],
   "source": [
    "# Население города (млн.), данные из интернета\n",
    "population = {'Amsterdam': 0.86, 'Athens': 0.66, 'Barcelona': 1.6, 'Berlin': 3.6, 'Bratislava': 0.4, 'Brussels': 0.19,\n",
    "              'Budapest': 1.75, 'Copenhagen': 0.79, 'Dublin': 1.17, 'Edinburgh': 0.52, 'Geneva': 0.2, 'Hamburg': 1.84,\n",
    "              'Helsinki': 0.64, 'Krakow': 0.78, 'Lisbon': 0.51, 'Ljubljana': 0.28, 'London': 8.91, 'Luxembourg': 0.12,\n",
    "              'Lyon': 0.52, 'Madrid': 3.23, 'Milan': 1.34, 'Munich': 1.47, 'Oporto': 0.24, 'Oslo': 0.69, 'Paris': 2.15,\n",
    "              'Prague': 1.32, 'Rome': 2.87, 'Stockholm': 0.98, 'Vienna': 1.9, 'Warsaw': 1.79, 'Zurich': 0.43}\n",
    "City_dummies['population'] = City_dummies['City'].map(population)"
   ]
  },
  {
   "cell_type": "code",
   "execution_count": 20,
   "metadata": {},
   "outputs": [],
   "source": [
    "# Площадь города (кв км), данные из интернета\n",
    "area = {'Amsterdam': 219, 'Athens': 412, 'Barcelona': 101, 'Berlin': 891, 'Bratislava': 368, 'Brussels': 32.6,\n",
    "        'Budapest': 525, 'Copenhagen': 86.4, 'Dublin': 115, 'Edinburgh': 175, 'Geneva': 15.9, 'Hamburg': 755,\n",
    "        'Helsinki': 715, 'Krakow': 327, 'Lisbon': 100, 'Ljubljana': 163, 'London': 1706, 'Luxembourg': 51.5,\n",
    "        'Lyon': 47.9, 'Madrid': 607, 'Milan': 181, 'Munich': 310, 'Oporto': 41.7, 'Oslo': 454, 'Paris': 105,\n",
    "        'Prague': 496, 'Rome': 1287, 'Stockholm': 188, 'Vienna': 414, 'Warsaw': 517, 'Zurich': 91.9}\n",
    "City_dummies['area'] = City_dummies['City'].map(area)"
   ]
  },
  {
   "cell_type": "code",
   "execution_count": 21,
   "metadata": {},
   "outputs": [],
   "source": [
    "# Добавим еще признак плотность населения на основе двух предыдущих\n",
    "City_dummies['density'] = City_dummies['population']*1000/City_dummies['area']"
   ]
  },
  {
   "cell_type": "code",
   "execution_count": 22,
   "metadata": {},
   "outputs": [
    {
     "data": {
      "text/html": [
       "<div>\n",
       "<style scoped>\n",
       "    .dataframe tbody tr th:only-of-type {\n",
       "        vertical-align: middle;\n",
       "    }\n",
       "\n",
       "    .dataframe tbody tr th {\n",
       "        vertical-align: top;\n",
       "    }\n",
       "\n",
       "    .dataframe thead th {\n",
       "        text-align: right;\n",
       "    }\n",
       "</style>\n",
       "<table border=\"1\" class=\"dataframe\">\n",
       "  <thead>\n",
       "    <tr style=\"text-align: right;\">\n",
       "      <th></th>\n",
       "      <th>City</th>\n",
       "      <th>Amsterdam</th>\n",
       "      <th>Athens</th>\n",
       "      <th>Barcelona</th>\n",
       "      <th>Berlin</th>\n",
       "      <th>Bratislava</th>\n",
       "      <th>Brussels</th>\n",
       "      <th>Budapest</th>\n",
       "      <th>Copenhagen</th>\n",
       "      <th>Dublin</th>\n",
       "      <th>Edinburgh</th>\n",
       "      <th>Geneva</th>\n",
       "      <th>Hamburg</th>\n",
       "      <th>Helsinki</th>\n",
       "      <th>Krakow</th>\n",
       "      <th>Lisbon</th>\n",
       "      <th>Ljubljana</th>\n",
       "      <th>London</th>\n",
       "      <th>Luxembourg</th>\n",
       "      <th>Lyon</th>\n",
       "      <th>Madrid</th>\n",
       "      <th>Milan</th>\n",
       "      <th>Munich</th>\n",
       "      <th>Oporto</th>\n",
       "      <th>Oslo</th>\n",
       "      <th>Paris</th>\n",
       "      <th>Prague</th>\n",
       "      <th>Rome</th>\n",
       "      <th>Stockholm</th>\n",
       "      <th>Vienna</th>\n",
       "      <th>Warsaw</th>\n",
       "      <th>Zurich</th>\n",
       "      <th>Capital</th>\n",
       "      <th>living_ind</th>\n",
       "      <th>rent_ind</th>\n",
       "      <th>gros_ind</th>\n",
       "      <th>rest_ind</th>\n",
       "      <th>purch_ind</th>\n",
       "      <th>quality_ind</th>\n",
       "      <th>safety_ind</th>\n",
       "      <th>healf_ind</th>\n",
       "      <th>property_ratio</th>\n",
       "      <th>traffic_ind</th>\n",
       "      <th>pollution_ind</th>\n",
       "      <th>climate_ind</th>\n",
       "      <th>turism_ind</th>\n",
       "      <th>population</th>\n",
       "      <th>area</th>\n",
       "      <th>density</th>\n",
       "    </tr>\n",
       "  </thead>\n",
       "  <tbody>\n",
       "    <tr>\n",
       "      <th>0</th>\n",
       "      <td>Paris</td>\n",
       "      <td>0</td>\n",
       "      <td>0</td>\n",
       "      <td>0</td>\n",
       "      <td>0</td>\n",
       "      <td>0</td>\n",
       "      <td>0</td>\n",
       "      <td>0</td>\n",
       "      <td>0</td>\n",
       "      <td>0</td>\n",
       "      <td>0</td>\n",
       "      <td>0</td>\n",
       "      <td>0</td>\n",
       "      <td>0</td>\n",
       "      <td>0</td>\n",
       "      <td>0</td>\n",
       "      <td>0</td>\n",
       "      <td>0</td>\n",
       "      <td>0</td>\n",
       "      <td>0</td>\n",
       "      <td>0</td>\n",
       "      <td>0</td>\n",
       "      <td>0</td>\n",
       "      <td>0</td>\n",
       "      <td>0</td>\n",
       "      <td>1</td>\n",
       "      <td>0</td>\n",
       "      <td>0</td>\n",
       "      <td>0</td>\n",
       "      <td>0</td>\n",
       "      <td>0</td>\n",
       "      <td>0</td>\n",
       "      <td>1</td>\n",
       "      <td>92.10</td>\n",
       "      <td>48.92</td>\n",
       "      <td>91.03</td>\n",
       "      <td>83.73</td>\n",
       "      <td>71.40</td>\n",
       "      <td>118.78</td>\n",
       "      <td>47.50</td>\n",
       "      <td>79.41</td>\n",
       "      <td>21.51</td>\n",
       "      <td>41.28</td>\n",
       "      <td>65.10</td>\n",
       "      <td>88.39</td>\n",
       "      <td>6</td>\n",
       "      <td>2.15</td>\n",
       "      <td>105.0</td>\n",
       "      <td>20.476190</td>\n",
       "    </tr>\n",
       "    <tr>\n",
       "      <th>1</th>\n",
       "      <td>Stockholm</td>\n",
       "      <td>0</td>\n",
       "      <td>0</td>\n",
       "      <td>0</td>\n",
       "      <td>0</td>\n",
       "      <td>0</td>\n",
       "      <td>0</td>\n",
       "      <td>0</td>\n",
       "      <td>0</td>\n",
       "      <td>0</td>\n",
       "      <td>0</td>\n",
       "      <td>0</td>\n",
       "      <td>0</td>\n",
       "      <td>0</td>\n",
       "      <td>0</td>\n",
       "      <td>0</td>\n",
       "      <td>0</td>\n",
       "      <td>0</td>\n",
       "      <td>0</td>\n",
       "      <td>0</td>\n",
       "      <td>0</td>\n",
       "      <td>0</td>\n",
       "      <td>0</td>\n",
       "      <td>0</td>\n",
       "      <td>0</td>\n",
       "      <td>0</td>\n",
       "      <td>0</td>\n",
       "      <td>0</td>\n",
       "      <td>1</td>\n",
       "      <td>0</td>\n",
       "      <td>0</td>\n",
       "      <td>0</td>\n",
       "      <td>1</td>\n",
       "      <td>84.28</td>\n",
       "      <td>40.86</td>\n",
       "      <td>74.32</td>\n",
       "      <td>85.63</td>\n",
       "      <td>83.02</td>\n",
       "      <td>156.65</td>\n",
       "      <td>54.83</td>\n",
       "      <td>66.87</td>\n",
       "      <td>14.39</td>\n",
       "      <td>36.09</td>\n",
       "      <td>19.63</td>\n",
       "      <td>69.67</td>\n",
       "      <td>88</td>\n",
       "      <td>0.98</td>\n",
       "      <td>188.0</td>\n",
       "      <td>5.212766</td>\n",
       "    </tr>\n",
       "    <tr>\n",
       "      <th>2</th>\n",
       "      <td>London</td>\n",
       "      <td>0</td>\n",
       "      <td>0</td>\n",
       "      <td>0</td>\n",
       "      <td>0</td>\n",
       "      <td>0</td>\n",
       "      <td>0</td>\n",
       "      <td>0</td>\n",
       "      <td>0</td>\n",
       "      <td>0</td>\n",
       "      <td>0</td>\n",
       "      <td>0</td>\n",
       "      <td>0</td>\n",
       "      <td>0</td>\n",
       "      <td>0</td>\n",
       "      <td>0</td>\n",
       "      <td>0</td>\n",
       "      <td>1</td>\n",
       "      <td>0</td>\n",
       "      <td>0</td>\n",
       "      <td>0</td>\n",
       "      <td>0</td>\n",
       "      <td>0</td>\n",
       "      <td>0</td>\n",
       "      <td>0</td>\n",
       "      <td>0</td>\n",
       "      <td>0</td>\n",
       "      <td>0</td>\n",
       "      <td>0</td>\n",
       "      <td>0</td>\n",
       "      <td>0</td>\n",
       "      <td>0</td>\n",
       "      <td>1</td>\n",
       "      <td>83.76</td>\n",
       "      <td>69.43</td>\n",
       "      <td>62.45</td>\n",
       "      <td>85.88</td>\n",
       "      <td>83.32</td>\n",
       "      <td>129.60</td>\n",
       "      <td>47.35</td>\n",
       "      <td>71.26</td>\n",
       "      <td>15.77</td>\n",
       "      <td>43.81</td>\n",
       "      <td>58.91</td>\n",
       "      <td>88.25</td>\n",
       "      <td>3</td>\n",
       "      <td>8.91</td>\n",
       "      <td>1706.0</td>\n",
       "      <td>5.222743</td>\n",
       "    </tr>\n",
       "    <tr>\n",
       "      <th>3</th>\n",
       "      <td>Berlin</td>\n",
       "      <td>0</td>\n",
       "      <td>0</td>\n",
       "      <td>0</td>\n",
       "      <td>1</td>\n",
       "      <td>0</td>\n",
       "      <td>0</td>\n",
       "      <td>0</td>\n",
       "      <td>0</td>\n",
       "      <td>0</td>\n",
       "      <td>0</td>\n",
       "      <td>0</td>\n",
       "      <td>0</td>\n",
       "      <td>0</td>\n",
       "      <td>0</td>\n",
       "      <td>0</td>\n",
       "      <td>0</td>\n",
       "      <td>0</td>\n",
       "      <td>0</td>\n",
       "      <td>0</td>\n",
       "      <td>0</td>\n",
       "      <td>0</td>\n",
       "      <td>0</td>\n",
       "      <td>0</td>\n",
       "      <td>0</td>\n",
       "      <td>0</td>\n",
       "      <td>0</td>\n",
       "      <td>0</td>\n",
       "      <td>0</td>\n",
       "      <td>0</td>\n",
       "      <td>0</td>\n",
       "      <td>0</td>\n",
       "      <td>1</td>\n",
       "      <td>70.43</td>\n",
       "      <td>34.21</td>\n",
       "      <td>58.22</td>\n",
       "      <td>57.14</td>\n",
       "      <td>94.81</td>\n",
       "      <td>163.47</td>\n",
       "      <td>59.17</td>\n",
       "      <td>69.81</td>\n",
       "      <td>9.60</td>\n",
       "      <td>33.66</td>\n",
       "      <td>39.41</td>\n",
       "      <td>83.35</td>\n",
       "      <td>41</td>\n",
       "      <td>3.60</td>\n",
       "      <td>891.0</td>\n",
       "      <td>4.040404</td>\n",
       "    </tr>\n",
       "    <tr>\n",
       "      <th>4</th>\n",
       "      <td>Munich</td>\n",
       "      <td>0</td>\n",
       "      <td>0</td>\n",
       "      <td>0</td>\n",
       "      <td>0</td>\n",
       "      <td>0</td>\n",
       "      <td>0</td>\n",
       "      <td>0</td>\n",
       "      <td>0</td>\n",
       "      <td>0</td>\n",
       "      <td>0</td>\n",
       "      <td>0</td>\n",
       "      <td>0</td>\n",
       "      <td>0</td>\n",
       "      <td>0</td>\n",
       "      <td>0</td>\n",
       "      <td>0</td>\n",
       "      <td>0</td>\n",
       "      <td>0</td>\n",
       "      <td>0</td>\n",
       "      <td>0</td>\n",
       "      <td>0</td>\n",
       "      <td>1</td>\n",
       "      <td>0</td>\n",
       "      <td>0</td>\n",
       "      <td>0</td>\n",
       "      <td>0</td>\n",
       "      <td>0</td>\n",
       "      <td>0</td>\n",
       "      <td>0</td>\n",
       "      <td>0</td>\n",
       "      <td>0</td>\n",
       "      <td>0</td>\n",
       "      <td>80.44</td>\n",
       "      <td>46.79</td>\n",
       "      <td>65.69</td>\n",
       "      <td>76.20</td>\n",
       "      <td>90.20</td>\n",
       "      <td>176.04</td>\n",
       "      <td>82.33</td>\n",
       "      <td>78.36</td>\n",
       "      <td>16.76</td>\n",
       "      <td>33.06</td>\n",
       "      <td>24.81</td>\n",
       "      <td>75.98</td>\n",
       "      <td>56</td>\n",
       "      <td>1.47</td>\n",
       "      <td>310.0</td>\n",
       "      <td>4.741935</td>\n",
       "    </tr>\n",
       "    <tr>\n",
       "      <th>...</th>\n",
       "      <td>...</td>\n",
       "      <td>...</td>\n",
       "      <td>...</td>\n",
       "      <td>...</td>\n",
       "      <td>...</td>\n",
       "      <td>...</td>\n",
       "      <td>...</td>\n",
       "      <td>...</td>\n",
       "      <td>...</td>\n",
       "      <td>...</td>\n",
       "      <td>...</td>\n",
       "      <td>...</td>\n",
       "      <td>...</td>\n",
       "      <td>...</td>\n",
       "      <td>...</td>\n",
       "      <td>...</td>\n",
       "      <td>...</td>\n",
       "      <td>...</td>\n",
       "      <td>...</td>\n",
       "      <td>...</td>\n",
       "      <td>...</td>\n",
       "      <td>...</td>\n",
       "      <td>...</td>\n",
       "      <td>...</td>\n",
       "      <td>...</td>\n",
       "      <td>...</td>\n",
       "      <td>...</td>\n",
       "      <td>...</td>\n",
       "      <td>...</td>\n",
       "      <td>...</td>\n",
       "      <td>...</td>\n",
       "      <td>...</td>\n",
       "      <td>...</td>\n",
       "      <td>...</td>\n",
       "      <td>...</td>\n",
       "      <td>...</td>\n",
       "      <td>...</td>\n",
       "      <td>...</td>\n",
       "      <td>...</td>\n",
       "      <td>...</td>\n",
       "      <td>...</td>\n",
       "      <td>...</td>\n",
       "      <td>...</td>\n",
       "      <td>...</td>\n",
       "      <td>...</td>\n",
       "      <td>...</td>\n",
       "      <td>...</td>\n",
       "      <td>...</td>\n",
       "      <td>...</td>\n",
       "    </tr>\n",
       "    <tr>\n",
       "      <th>39995</th>\n",
       "      <td>Milan</td>\n",
       "      <td>0</td>\n",
       "      <td>0</td>\n",
       "      <td>0</td>\n",
       "      <td>0</td>\n",
       "      <td>0</td>\n",
       "      <td>0</td>\n",
       "      <td>0</td>\n",
       "      <td>0</td>\n",
       "      <td>0</td>\n",
       "      <td>0</td>\n",
       "      <td>0</td>\n",
       "      <td>0</td>\n",
       "      <td>0</td>\n",
       "      <td>0</td>\n",
       "      <td>0</td>\n",
       "      <td>0</td>\n",
       "      <td>0</td>\n",
       "      <td>0</td>\n",
       "      <td>0</td>\n",
       "      <td>0</td>\n",
       "      <td>1</td>\n",
       "      <td>0</td>\n",
       "      <td>0</td>\n",
       "      <td>0</td>\n",
       "      <td>0</td>\n",
       "      <td>0</td>\n",
       "      <td>0</td>\n",
       "      <td>0</td>\n",
       "      <td>0</td>\n",
       "      <td>0</td>\n",
       "      <td>0</td>\n",
       "      <td>0</td>\n",
       "      <td>82.03</td>\n",
       "      <td>44.42</td>\n",
       "      <td>71.04</td>\n",
       "      <td>81.46</td>\n",
       "      <td>53.40</td>\n",
       "      <td>118.49</td>\n",
       "      <td>56.73</td>\n",
       "      <td>72.09</td>\n",
       "      <td>18.07</td>\n",
       "      <td>36.74</td>\n",
       "      <td>67.19</td>\n",
       "      <td>88.12</td>\n",
       "      <td>35</td>\n",
       "      <td>1.34</td>\n",
       "      <td>181.0</td>\n",
       "      <td>7.403315</td>\n",
       "    </tr>\n",
       "    <tr>\n",
       "      <th>39996</th>\n",
       "      <td>Paris</td>\n",
       "      <td>0</td>\n",
       "      <td>0</td>\n",
       "      <td>0</td>\n",
       "      <td>0</td>\n",
       "      <td>0</td>\n",
       "      <td>0</td>\n",
       "      <td>0</td>\n",
       "      <td>0</td>\n",
       "      <td>0</td>\n",
       "      <td>0</td>\n",
       "      <td>0</td>\n",
       "      <td>0</td>\n",
       "      <td>0</td>\n",
       "      <td>0</td>\n",
       "      <td>0</td>\n",
       "      <td>0</td>\n",
       "      <td>0</td>\n",
       "      <td>0</td>\n",
       "      <td>0</td>\n",
       "      <td>0</td>\n",
       "      <td>0</td>\n",
       "      <td>0</td>\n",
       "      <td>0</td>\n",
       "      <td>0</td>\n",
       "      <td>1</td>\n",
       "      <td>0</td>\n",
       "      <td>0</td>\n",
       "      <td>0</td>\n",
       "      <td>0</td>\n",
       "      <td>0</td>\n",
       "      <td>0</td>\n",
       "      <td>1</td>\n",
       "      <td>92.10</td>\n",
       "      <td>48.92</td>\n",
       "      <td>91.03</td>\n",
       "      <td>83.73</td>\n",
       "      <td>71.40</td>\n",
       "      <td>118.78</td>\n",
       "      <td>47.50</td>\n",
       "      <td>79.41</td>\n",
       "      <td>21.51</td>\n",
       "      <td>41.28</td>\n",
       "      <td>65.10</td>\n",
       "      <td>88.39</td>\n",
       "      <td>6</td>\n",
       "      <td>2.15</td>\n",
       "      <td>105.0</td>\n",
       "      <td>20.476190</td>\n",
       "    </tr>\n",
       "    <tr>\n",
       "      <th>39997</th>\n",
       "      <td>Stockholm</td>\n",
       "      <td>0</td>\n",
       "      <td>0</td>\n",
       "      <td>0</td>\n",
       "      <td>0</td>\n",
       "      <td>0</td>\n",
       "      <td>0</td>\n",
       "      <td>0</td>\n",
       "      <td>0</td>\n",
       "      <td>0</td>\n",
       "      <td>0</td>\n",
       "      <td>0</td>\n",
       "      <td>0</td>\n",
       "      <td>0</td>\n",
       "      <td>0</td>\n",
       "      <td>0</td>\n",
       "      <td>0</td>\n",
       "      <td>0</td>\n",
       "      <td>0</td>\n",
       "      <td>0</td>\n",
       "      <td>0</td>\n",
       "      <td>0</td>\n",
       "      <td>0</td>\n",
       "      <td>0</td>\n",
       "      <td>0</td>\n",
       "      <td>0</td>\n",
       "      <td>0</td>\n",
       "      <td>0</td>\n",
       "      <td>1</td>\n",
       "      <td>0</td>\n",
       "      <td>0</td>\n",
       "      <td>0</td>\n",
       "      <td>1</td>\n",
       "      <td>84.28</td>\n",
       "      <td>40.86</td>\n",
       "      <td>74.32</td>\n",
       "      <td>85.63</td>\n",
       "      <td>83.02</td>\n",
       "      <td>156.65</td>\n",
       "      <td>54.83</td>\n",
       "      <td>66.87</td>\n",
       "      <td>14.39</td>\n",
       "      <td>36.09</td>\n",
       "      <td>19.63</td>\n",
       "      <td>69.67</td>\n",
       "      <td>88</td>\n",
       "      <td>0.98</td>\n",
       "      <td>188.0</td>\n",
       "      <td>5.212766</td>\n",
       "    </tr>\n",
       "    <tr>\n",
       "      <th>39998</th>\n",
       "      <td>Warsaw</td>\n",
       "      <td>0</td>\n",
       "      <td>0</td>\n",
       "      <td>0</td>\n",
       "      <td>0</td>\n",
       "      <td>0</td>\n",
       "      <td>0</td>\n",
       "      <td>0</td>\n",
       "      <td>0</td>\n",
       "      <td>0</td>\n",
       "      <td>0</td>\n",
       "      <td>0</td>\n",
       "      <td>0</td>\n",
       "      <td>0</td>\n",
       "      <td>0</td>\n",
       "      <td>0</td>\n",
       "      <td>0</td>\n",
       "      <td>0</td>\n",
       "      <td>0</td>\n",
       "      <td>0</td>\n",
       "      <td>0</td>\n",
       "      <td>0</td>\n",
       "      <td>0</td>\n",
       "      <td>0</td>\n",
       "      <td>0</td>\n",
       "      <td>0</td>\n",
       "      <td>0</td>\n",
       "      <td>0</td>\n",
       "      <td>0</td>\n",
       "      <td>0</td>\n",
       "      <td>1</td>\n",
       "      <td>0</td>\n",
       "      <td>1</td>\n",
       "      <td>45.99</td>\n",
       "      <td>24.89</td>\n",
       "      <td>36.86</td>\n",
       "      <td>39.66</td>\n",
       "      <td>52.77</td>\n",
       "      <td>131.45</td>\n",
       "      <td>74.50</td>\n",
       "      <td>61.84</td>\n",
       "      <td>15.19</td>\n",
       "      <td>35.08</td>\n",
       "      <td>58.79</td>\n",
       "      <td>74.61</td>\n",
       "      <td>83</td>\n",
       "      <td>1.79</td>\n",
       "      <td>517.0</td>\n",
       "      <td>3.462282</td>\n",
       "    </tr>\n",
       "    <tr>\n",
       "      <th>39999</th>\n",
       "      <td>Milan</td>\n",
       "      <td>0</td>\n",
       "      <td>0</td>\n",
       "      <td>0</td>\n",
       "      <td>0</td>\n",
       "      <td>0</td>\n",
       "      <td>0</td>\n",
       "      <td>0</td>\n",
       "      <td>0</td>\n",
       "      <td>0</td>\n",
       "      <td>0</td>\n",
       "      <td>0</td>\n",
       "      <td>0</td>\n",
       "      <td>0</td>\n",
       "      <td>0</td>\n",
       "      <td>0</td>\n",
       "      <td>0</td>\n",
       "      <td>0</td>\n",
       "      <td>0</td>\n",
       "      <td>0</td>\n",
       "      <td>0</td>\n",
       "      <td>1</td>\n",
       "      <td>0</td>\n",
       "      <td>0</td>\n",
       "      <td>0</td>\n",
       "      <td>0</td>\n",
       "      <td>0</td>\n",
       "      <td>0</td>\n",
       "      <td>0</td>\n",
       "      <td>0</td>\n",
       "      <td>0</td>\n",
       "      <td>0</td>\n",
       "      <td>0</td>\n",
       "      <td>82.03</td>\n",
       "      <td>44.42</td>\n",
       "      <td>71.04</td>\n",
       "      <td>81.46</td>\n",
       "      <td>53.40</td>\n",
       "      <td>118.49</td>\n",
       "      <td>56.73</td>\n",
       "      <td>72.09</td>\n",
       "      <td>18.07</td>\n",
       "      <td>36.74</td>\n",
       "      <td>67.19</td>\n",
       "      <td>88.12</td>\n",
       "      <td>35</td>\n",
       "      <td>1.34</td>\n",
       "      <td>181.0</td>\n",
       "      <td>7.403315</td>\n",
       "    </tr>\n",
       "  </tbody>\n",
       "</table>\n",
       "<p>40000 rows × 49 columns</p>\n",
       "</div>"
      ],
      "text/plain": [
       "            City  Amsterdam  Athens  Barcelona  Berlin  Bratislava  Brussels  \\\n",
       "0          Paris          0       0          0       0           0         0   \n",
       "1      Stockholm          0       0          0       0           0         0   \n",
       "2         London          0       0          0       0           0         0   \n",
       "3         Berlin          0       0          0       1           0         0   \n",
       "4         Munich          0       0          0       0           0         0   \n",
       "...          ...        ...     ...        ...     ...         ...       ...   \n",
       "39995      Milan          0       0          0       0           0         0   \n",
       "39996      Paris          0       0          0       0           0         0   \n",
       "39997  Stockholm          0       0          0       0           0         0   \n",
       "39998     Warsaw          0       0          0       0           0         0   \n",
       "39999      Milan          0       0          0       0           0         0   \n",
       "\n",
       "       Budapest  Copenhagen  Dublin  Edinburgh  Geneva  Hamburg  Helsinki  \\\n",
       "0             0           0       0          0       0        0         0   \n",
       "1             0           0       0          0       0        0         0   \n",
       "2             0           0       0          0       0        0         0   \n",
       "3             0           0       0          0       0        0         0   \n",
       "4             0           0       0          0       0        0         0   \n",
       "...         ...         ...     ...        ...     ...      ...       ...   \n",
       "39995         0           0       0          0       0        0         0   \n",
       "39996         0           0       0          0       0        0         0   \n",
       "39997         0           0       0          0       0        0         0   \n",
       "39998         0           0       0          0       0        0         0   \n",
       "39999         0           0       0          0       0        0         0   \n",
       "\n",
       "       Krakow  Lisbon  Ljubljana  London  Luxembourg  Lyon  Madrid  Milan  \\\n",
       "0           0       0          0       0           0     0       0      0   \n",
       "1           0       0          0       0           0     0       0      0   \n",
       "2           0       0          0       1           0     0       0      0   \n",
       "3           0       0          0       0           0     0       0      0   \n",
       "4           0       0          0       0           0     0       0      0   \n",
       "...       ...     ...        ...     ...         ...   ...     ...    ...   \n",
       "39995       0       0          0       0           0     0       0      1   \n",
       "39996       0       0          0       0           0     0       0      0   \n",
       "39997       0       0          0       0           0     0       0      0   \n",
       "39998       0       0          0       0           0     0       0      0   \n",
       "39999       0       0          0       0           0     0       0      1   \n",
       "\n",
       "       Munich  Oporto  Oslo  Paris  Prague  Rome  Stockholm  Vienna  Warsaw  \\\n",
       "0           0       0     0      1       0     0          0       0       0   \n",
       "1           0       0     0      0       0     0          1       0       0   \n",
       "2           0       0     0      0       0     0          0       0       0   \n",
       "3           0       0     0      0       0     0          0       0       0   \n",
       "4           1       0     0      0       0     0          0       0       0   \n",
       "...       ...     ...   ...    ...     ...   ...        ...     ...     ...   \n",
       "39995       0       0     0      0       0     0          0       0       0   \n",
       "39996       0       0     0      1       0     0          0       0       0   \n",
       "39997       0       0     0      0       0     0          1       0       0   \n",
       "39998       0       0     0      0       0     0          0       0       1   \n",
       "39999       0       0     0      0       0     0          0       0       0   \n",
       "\n",
       "       Zurich  Capital  living_ind  rent_ind  gros_ind  rest_ind  purch_ind  \\\n",
       "0           0        1       92.10     48.92     91.03     83.73      71.40   \n",
       "1           0        1       84.28     40.86     74.32     85.63      83.02   \n",
       "2           0        1       83.76     69.43     62.45     85.88      83.32   \n",
       "3           0        1       70.43     34.21     58.22     57.14      94.81   \n",
       "4           0        0       80.44     46.79     65.69     76.20      90.20   \n",
       "...       ...      ...         ...       ...       ...       ...        ...   \n",
       "39995       0        0       82.03     44.42     71.04     81.46      53.40   \n",
       "39996       0        1       92.10     48.92     91.03     83.73      71.40   \n",
       "39997       0        1       84.28     40.86     74.32     85.63      83.02   \n",
       "39998       0        1       45.99     24.89     36.86     39.66      52.77   \n",
       "39999       0        0       82.03     44.42     71.04     81.46      53.40   \n",
       "\n",
       "       quality_ind  safety_ind  healf_ind  property_ratio  traffic_ind  \\\n",
       "0           118.78       47.50      79.41           21.51        41.28   \n",
       "1           156.65       54.83      66.87           14.39        36.09   \n",
       "2           129.60       47.35      71.26           15.77        43.81   \n",
       "3           163.47       59.17      69.81            9.60        33.66   \n",
       "4           176.04       82.33      78.36           16.76        33.06   \n",
       "...            ...         ...        ...             ...          ...   \n",
       "39995       118.49       56.73      72.09           18.07        36.74   \n",
       "39996       118.78       47.50      79.41           21.51        41.28   \n",
       "39997       156.65       54.83      66.87           14.39        36.09   \n",
       "39998       131.45       74.50      61.84           15.19        35.08   \n",
       "39999       118.49       56.73      72.09           18.07        36.74   \n",
       "\n",
       "       pollution_ind  climate_ind  turism_ind  population    area    density  \n",
       "0              65.10        88.39           6        2.15   105.0  20.476190  \n",
       "1              19.63        69.67          88        0.98   188.0   5.212766  \n",
       "2              58.91        88.25           3        8.91  1706.0   5.222743  \n",
       "3              39.41        83.35          41        3.60   891.0   4.040404  \n",
       "4              24.81        75.98          56        1.47   310.0   4.741935  \n",
       "...              ...          ...         ...         ...     ...        ...  \n",
       "39995          67.19        88.12          35        1.34   181.0   7.403315  \n",
       "39996          65.10        88.39           6        2.15   105.0  20.476190  \n",
       "39997          19.63        69.67          88        0.98   188.0   5.212766  \n",
       "39998          58.79        74.61          83        1.79   517.0   3.462282  \n",
       "39999          67.19        88.12          35        1.34   181.0   7.403315  \n",
       "\n",
       "[40000 rows x 49 columns]"
      ]
     },
     "execution_count": 22,
     "metadata": {},
     "output_type": "execute_result"
    }
   ],
   "source": [
    "City_dummies"
   ]
  },
  {
   "cell_type": "markdown",
   "metadata": {},
   "source": [
    "Построим графики зависимостей рейтинга от новых признаков:"
   ]
  },
  {
   "cell_type": "code",
   "execution_count": 23,
   "metadata": {},
   "outputs": [
    {
     "data": {
      "image/png": "[encoded data removed]",
      "text/plain": [
       "<Figure size 1080x1080 with 20 Axes>"
      ]
     },
     "metadata": {
      "needs_background": "light"
     },
     "output_type": "display_data"
    }
   ],
   "source": [
    "fig, pl = plt.subplots(4, 5, figsize=(15, 15))\n",
    "\n",
    "for ind, col in enumerate(City_dummies.columns[32:], 0):\n",
    "    pl_row, pl_col = divmod(ind, 5)\n",
    "    pl[pl_row, pl_col].scatter(\n",
    "        x=City_dummies[col], y=df_prepare['Rating'], marker='.')\n",
    "    pl[pl_row, pl_col].set_title(col)"
   ]
  },
  {
   "cell_type": "markdown",
   "metadata": {},
   "source": [
    "Графики показывают, что полдня работы коту под хвост( Зато научилась парсить сайты."
   ]
  },
  {
   "cell_type": "markdown",
   "metadata": {},
   "source": [
    "Посмотрим, что показывают графики распределения оценок внутри каждого города"
   ]
  },
  {
   "cell_type": "code",
   "execution_count": 25,
   "metadata": {},
   "outputs": [
    {
     "data": {
      "image/png": "[encoded data removed]",
      "text/plain": [
       "<Figure size 1080x1080 with 36 Axes>"
      ]
     },
     "metadata": {
      "needs_background": "light"
     },
     "output_type": "display_data"
    }
   ],
   "source": [
    "fig, pl = plt.subplots(6, 6, figsize=(15, 15))\n",
    "\n",
    "for ind, col in enumerate(City_dummies.columns[1:32], 0):\n",
    "    pl_row, pl_col = divmod(ind, 6)\n",
    "    pl[pl_row, pl_col].hist(df_prepare.Rating[df_prepare.City == col])\n",
    "    pl[pl_row, pl_col].set_title(col)"
   ]
  },
  {
   "cell_type": "markdown",
   "metadata": {},
   "source": [
    "Графики очень похожи, наверно поэтому не было смысла искать дополнительные признаки у городов."
   ]
  },
  {
   "cell_type": "markdown",
   "metadata": {},
   "source": [
    "Перейдем к колонке \"Тип кухни\". В ней есть пропуски. Пока не будем их трогать, посмотрим сколько типов кухонь представлено в датасете:"
   ]
  },
  {
   "cell_type": "code",
   "execution_count": 26,
   "metadata": {},
   "outputs": [],
   "source": [
    "Cuisine_ser = df_prepare[~df_prepare['Cuisine Style'].isna()]['Cuisine Style']\n",
    "Cuisine_ser = Cuisine_ser.astype('str').apply(lambda x: eval(x))\n",
    "Cuisine_ser = Cuisine_ser.explode()\n",
    "Cuisine_cnts = Cuisine_ser.value_counts()"
   ]
  },
  {
   "cell_type": "code",
   "execution_count": 27,
   "metadata": {},
   "outputs": [
    {
     "name": "stdout",
     "output_type": "stream",
     "text": [
      "[11189, 10060, 6277, 5964, 4486, 4113, 3297, 3190, 3011, 2849, 2798, 2449, 2325, 1705, 1595, 1584, 1505, 1464, 1393, 1315, 1156, 1145, 1107, 1041, 782, 743, 697, 662, 620, 604, 598, 595, 577, 573, 555, 523, 513, 496, 494, 490, 471, 445, 444, 392, 380, 372, 365, 352, 342, 329, 302, 295, 294, 284, 270, 263, 225, 178, 177, 171, 169, 167, 163, 154, 141, 135, 127, 123, 94, 93, 83, 83, 76, 75, 74, 68, 59, 58, 53, 51, 48, 42, 40, 31, 27, 25, 25, 24, 24, 23, 22, 22, 21, 21, 20, 20, 20, 20, 19, 18, 17, 17, 14, 14, 12, 12, 11, 10, 8, 8, 6, 5, 5, 4, 4, 4, 2, 2, 2, 2, 1, 1, 1, 1, 1]\n",
      "125\n"
     ]
    }
   ],
   "source": [
    "print(list(Cuisine_cnts))\n",
    "print(len(Cuisine_cnts))"
   ]
  },
  {
   "cell_type": "code",
   "execution_count": 28,
   "metadata": {},
   "outputs": [
    {
     "data": {
      "text/plain": [
       "<matplotlib.axes._axes.Axes at 0x12e2ef88>"
      ]
     },
     "execution_count": 28,
     "metadata": {},
     "output_type": "execute_result"
    },
    {
     "data": {
      "image/png": "[encoded data removed]",
      "text/plain": [
       "<Figure size 432x288 with 1 Axes>"
      ]
     },
     "metadata": {
      "needs_background": "light"
     },
     "output_type": "display_data"
    }
   ],
   "source": [
    "fig = plt.figure()\n",
    "ax = fig.add_axes([0, 0, 2.7, 1])\n",
    "Cuisine_ser.hist(xrot=90)"
   ]
  },
  {
   "cell_type": "markdown",
   "metadata": {},
   "source": [
    "По списку значений и графику мы видим, что большинство кухонь представлены в датасете в очень малом количестве. Оставим только топовые кухни, остальные переименуем в тип \"others\". Число отсечения будем задавать, сделаем возможность менять это число и эксперементировать с ним."
   ]
  },
  {
   "cell_type": "code",
   "execution_count": 29,
   "metadata": {},
   "outputs": [],
   "source": [
    "Cuisine_limit = 400  # 10% от количества данных в датасете\n",
    "Cuisine_columns = list(Cuisine_cnts[Cuisine_cnts > Cuisine_limit].index)\n",
    "Other_columns = list(set(Cuisine_cnts.index) - set(Cuisine_columns))"
   ]
  },
  {
   "cell_type": "code",
   "execution_count": 30,
   "metadata": {},
   "outputs": [
    {
     "name": "stdout",
     "output_type": "stream",
     "text": [
      "['Vegetarian Friendly', 'European', 'Mediterranean', 'Italian', 'Vegan Options', 'Gluten Free Options', 'Bar', 'French', 'Asian', 'Pizza', 'Spanish', 'Pub', 'Cafe', 'Fast Food', 'British', 'International', 'Seafood', 'Japanese', 'Central European', 'American', 'Sushi', 'Chinese', 'Portuguese', 'Indian', 'Middle Eastern', 'Thai', 'Wine Bar', 'German', 'Healthy', 'Greek', 'Halal', 'Czech', 'Fusion', 'Steakhouse', 'Barbecue', 'Contemporary', 'Vietnamese', 'Eastern European', 'Soups', 'Grill', 'Gastropub', 'Mexican', 'Turkish']\n",
      "['Xinjiang', 'Tibetan', 'Polynesian', 'Swiss', 'Salvadoran', 'Latin', 'Hungarian', 'Burmese', 'Native American', 'Moroccan', 'Danish', 'Pakistani', 'Malaysian', 'Chilean', 'Slovenian', 'Kosher', 'Delicatessen', 'Caribbean', 'Taiwanese', 'Central Asian', 'Irish', 'Peruvian', 'Russian', 'Singaporean', 'Austrian', 'Canadian', 'Uzbek', 'Cajun & Creole', 'Filipino', 'Dutch', 'Arabic', 'Croatian', 'Persian', 'Australian', 'Fujian', 'African', 'Nepali', 'New Zealand', 'Lebanese', 'Armenian', 'Egyptian', 'Mongolian', 'Central American', 'Cambodian', 'Tunisian', 'Hawaiian', 'Welsh', 'Romanian', 'Ukrainian', 'Ecuadorean', 'Azerbaijani', 'Yunnan', 'Minority Chinese', 'Brazilian', 'Israeli', 'Jamaican', 'Korean', 'Scottish', 'Southwestern', 'Scandinavian', 'Venezuelan', 'Afghani', 'Colombian', 'Swedish', 'Georgian', 'Norwegian', 'Sri Lankan', 'Belgian', 'Polish', 'Diner', 'Argentinean', 'Bangladeshi', 'Albanian', 'Street Food', 'Cuban', 'Latvian', 'Indonesian', 'South American', 'Brew Pub', 'Ethiopian', 'Balti', 'Caucasian']\n"
     ]
    }
   ],
   "source": [
    "print(Cuisine_columns)\n",
    "print(Other_columns)"
   ]
  },
  {
   "cell_type": "markdown",
   "metadata": {},
   "source": [
    "По аналогии с городами создадим отдельный датасет с кухнями, пропуски заменим типом кухни \"Европейская\":"
   ]
  },
  {
   "cell_type": "code",
   "execution_count": 31,
   "metadata": {},
   "outputs": [],
   "source": [
    "df_prepare['Cuisine Style'] = df_prepare['Cuisine Style'].fillna(\n",
    "    \"['European']\")\n",
    "Cuisine_dummies = pd.DataFrame(df_prepare['Cuisine Style'])\n",
    "\n",
    "for Cuisine in Cuisine_columns:\n",
    "    Cuisine_dummies[Cuisine] = Cuisine_dummies['Cuisine Style'].astype(\n",
    "        'str').apply(lambda x: 1 if Cuisine in x else 0)\n",
    "\n",
    "\n",
    "def other_cuisine(cuisine_str):\n",
    "    for Cuisine in Other_columns:\n",
    "        if Cuisine in cuisine_str:\n",
    "            return 1\n",
    "    return 0\n",
    "\n",
    "\n",
    "Cuisine_dummies['Other cuisine'] = Cuisine_dummies['Cuisine Style'].astype(\n",
    "    'str').apply(other_cuisine)"
   ]
  },
  {
   "cell_type": "code",
   "execution_count": 32,
   "metadata": {
    "scrolled": true
   },
   "outputs": [
    {
     "data": {
      "text/html": [
       "<div>\n",
       "<style scoped>\n",
       "    .dataframe tbody tr th:only-of-type {\n",
       "        vertical-align: middle;\n",
       "    }\n",
       "\n",
       "    .dataframe tbody tr th {\n",
       "        vertical-align: top;\n",
       "    }\n",
       "\n",
       "    .dataframe thead th {\n",
       "        text-align: right;\n",
       "    }\n",
       "</style>\n",
       "<table border=\"1\" class=\"dataframe\">\n",
       "  <thead>\n",
       "    <tr style=\"text-align: right;\">\n",
       "      <th></th>\n",
       "      <th>Cuisine Style</th>\n",
       "      <th>Vegetarian Friendly</th>\n",
       "      <th>European</th>\n",
       "      <th>Mediterranean</th>\n",
       "      <th>Italian</th>\n",
       "      <th>Vegan Options</th>\n",
       "      <th>Gluten Free Options</th>\n",
       "      <th>Bar</th>\n",
       "      <th>French</th>\n",
       "      <th>Asian</th>\n",
       "      <th>Pizza</th>\n",
       "      <th>Spanish</th>\n",
       "      <th>Pub</th>\n",
       "      <th>Cafe</th>\n",
       "      <th>Fast Food</th>\n",
       "      <th>British</th>\n",
       "      <th>International</th>\n",
       "      <th>Seafood</th>\n",
       "      <th>Japanese</th>\n",
       "      <th>Central European</th>\n",
       "      <th>American</th>\n",
       "      <th>Sushi</th>\n",
       "      <th>Chinese</th>\n",
       "      <th>Portuguese</th>\n",
       "      <th>Indian</th>\n",
       "      <th>Middle Eastern</th>\n",
       "      <th>Thai</th>\n",
       "      <th>Wine Bar</th>\n",
       "      <th>German</th>\n",
       "      <th>Healthy</th>\n",
       "      <th>Greek</th>\n",
       "      <th>Halal</th>\n",
       "      <th>Czech</th>\n",
       "      <th>Fusion</th>\n",
       "      <th>Steakhouse</th>\n",
       "      <th>Barbecue</th>\n",
       "      <th>Contemporary</th>\n",
       "      <th>Vietnamese</th>\n",
       "      <th>Eastern European</th>\n",
       "      <th>Soups</th>\n",
       "      <th>Grill</th>\n",
       "      <th>Gastropub</th>\n",
       "      <th>Mexican</th>\n",
       "      <th>Turkish</th>\n",
       "      <th>Other cuisine</th>\n",
       "    </tr>\n",
       "  </thead>\n",
       "  <tbody>\n",
       "    <tr>\n",
       "      <th>0</th>\n",
       "      <td>['European', 'French', 'International']</td>\n",
       "      <td>0</td>\n",
       "      <td>1</td>\n",
       "      <td>0</td>\n",
       "      <td>0</td>\n",
       "      <td>0</td>\n",
       "      <td>0</td>\n",
       "      <td>0</td>\n",
       "      <td>1</td>\n",
       "      <td>0</td>\n",
       "      <td>0</td>\n",
       "      <td>0</td>\n",
       "      <td>0</td>\n",
       "      <td>0</td>\n",
       "      <td>0</td>\n",
       "      <td>0</td>\n",
       "      <td>1</td>\n",
       "      <td>0</td>\n",
       "      <td>0</td>\n",
       "      <td>0</td>\n",
       "      <td>0</td>\n",
       "      <td>0</td>\n",
       "      <td>0</td>\n",
       "      <td>0</td>\n",
       "      <td>0</td>\n",
       "      <td>0</td>\n",
       "      <td>0</td>\n",
       "      <td>0</td>\n",
       "      <td>0</td>\n",
       "      <td>0</td>\n",
       "      <td>0</td>\n",
       "      <td>0</td>\n",
       "      <td>0</td>\n",
       "      <td>0</td>\n",
       "      <td>0</td>\n",
       "      <td>0</td>\n",
       "      <td>0</td>\n",
       "      <td>0</td>\n",
       "      <td>0</td>\n",
       "      <td>0</td>\n",
       "      <td>0</td>\n",
       "      <td>0</td>\n",
       "      <td>0</td>\n",
       "      <td>0</td>\n",
       "      <td>0</td>\n",
       "    </tr>\n",
       "    <tr>\n",
       "      <th>1</th>\n",
       "      <td>['European']</td>\n",
       "      <td>0</td>\n",
       "      <td>1</td>\n",
       "      <td>0</td>\n",
       "      <td>0</td>\n",
       "      <td>0</td>\n",
       "      <td>0</td>\n",
       "      <td>0</td>\n",
       "      <td>0</td>\n",
       "      <td>0</td>\n",
       "      <td>0</td>\n",
       "      <td>0</td>\n",
       "      <td>0</td>\n",
       "      <td>0</td>\n",
       "      <td>0</td>\n",
       "      <td>0</td>\n",
       "      <td>0</td>\n",
       "      <td>0</td>\n",
       "      <td>0</td>\n",
       "      <td>0</td>\n",
       "      <td>0</td>\n",
       "      <td>0</td>\n",
       "      <td>0</td>\n",
       "      <td>0</td>\n",
       "      <td>0</td>\n",
       "      <td>0</td>\n",
       "      <td>0</td>\n",
       "      <td>0</td>\n",
       "      <td>0</td>\n",
       "      <td>0</td>\n",
       "      <td>0</td>\n",
       "      <td>0</td>\n",
       "      <td>0</td>\n",
       "      <td>0</td>\n",
       "      <td>0</td>\n",
       "      <td>0</td>\n",
       "      <td>0</td>\n",
       "      <td>0</td>\n",
       "      <td>0</td>\n",
       "      <td>0</td>\n",
       "      <td>0</td>\n",
       "      <td>0</td>\n",
       "      <td>0</td>\n",
       "      <td>0</td>\n",
       "      <td>0</td>\n",
       "    </tr>\n",
       "    <tr>\n",
       "      <th>2</th>\n",
       "      <td>['Japanese', 'Sushi', 'Asian', 'Grill', 'Veget...</td>\n",
       "      <td>1</td>\n",
       "      <td>0</td>\n",
       "      <td>0</td>\n",
       "      <td>0</td>\n",
       "      <td>1</td>\n",
       "      <td>1</td>\n",
       "      <td>0</td>\n",
       "      <td>0</td>\n",
       "      <td>1</td>\n",
       "      <td>0</td>\n",
       "      <td>0</td>\n",
       "      <td>0</td>\n",
       "      <td>0</td>\n",
       "      <td>0</td>\n",
       "      <td>0</td>\n",
       "      <td>0</td>\n",
       "      <td>0</td>\n",
       "      <td>1</td>\n",
       "      <td>0</td>\n",
       "      <td>0</td>\n",
       "      <td>1</td>\n",
       "      <td>0</td>\n",
       "      <td>0</td>\n",
       "      <td>0</td>\n",
       "      <td>0</td>\n",
       "      <td>0</td>\n",
       "      <td>0</td>\n",
       "      <td>0</td>\n",
       "      <td>0</td>\n",
       "      <td>0</td>\n",
       "      <td>0</td>\n",
       "      <td>0</td>\n",
       "      <td>0</td>\n",
       "      <td>0</td>\n",
       "      <td>0</td>\n",
       "      <td>0</td>\n",
       "      <td>0</td>\n",
       "      <td>0</td>\n",
       "      <td>0</td>\n",
       "      <td>1</td>\n",
       "      <td>0</td>\n",
       "      <td>0</td>\n",
       "      <td>0</td>\n",
       "      <td>0</td>\n",
       "    </tr>\n",
       "    <tr>\n",
       "      <th>3</th>\n",
       "      <td>['European']</td>\n",
       "      <td>0</td>\n",
       "      <td>1</td>\n",
       "      <td>0</td>\n",
       "      <td>0</td>\n",
       "      <td>0</td>\n",
       "      <td>0</td>\n",
       "      <td>0</td>\n",
       "      <td>0</td>\n",
       "      <td>0</td>\n",
       "      <td>0</td>\n",
       "      <td>0</td>\n",
       "      <td>0</td>\n",
       "      <td>0</td>\n",
       "      <td>0</td>\n",
       "      <td>0</td>\n",
       "      <td>0</td>\n",
       "      <td>0</td>\n",
       "      <td>0</td>\n",
       "      <td>0</td>\n",
       "      <td>0</td>\n",
       "      <td>0</td>\n",
       "      <td>0</td>\n",
       "      <td>0</td>\n",
       "      <td>0</td>\n",
       "      <td>0</td>\n",
       "      <td>0</td>\n",
       "      <td>0</td>\n",
       "      <td>0</td>\n",
       "      <td>0</td>\n",
       "      <td>0</td>\n",
       "      <td>0</td>\n",
       "      <td>0</td>\n",
       "      <td>0</td>\n",
       "      <td>0</td>\n",
       "      <td>0</td>\n",
       "      <td>0</td>\n",
       "      <td>0</td>\n",
       "      <td>0</td>\n",
       "      <td>0</td>\n",
       "      <td>0</td>\n",
       "      <td>0</td>\n",
       "      <td>0</td>\n",
       "      <td>0</td>\n",
       "      <td>0</td>\n",
       "    </tr>\n",
       "    <tr>\n",
       "      <th>4</th>\n",
       "      <td>['German', 'Central European', 'Vegetarian Fri...</td>\n",
       "      <td>1</td>\n",
       "      <td>1</td>\n",
       "      <td>0</td>\n",
       "      <td>0</td>\n",
       "      <td>0</td>\n",
       "      <td>0</td>\n",
       "      <td>0</td>\n",
       "      <td>0</td>\n",
       "      <td>0</td>\n",
       "      <td>0</td>\n",
       "      <td>0</td>\n",
       "      <td>0</td>\n",
       "      <td>0</td>\n",
       "      <td>0</td>\n",
       "      <td>0</td>\n",
       "      <td>0</td>\n",
       "      <td>0</td>\n",
       "      <td>0</td>\n",
       "      <td>1</td>\n",
       "      <td>0</td>\n",
       "      <td>0</td>\n",
       "      <td>0</td>\n",
       "      <td>0</td>\n",
       "      <td>0</td>\n",
       "      <td>0</td>\n",
       "      <td>0</td>\n",
       "      <td>0</td>\n",
       "      <td>1</td>\n",
       "      <td>0</td>\n",
       "      <td>0</td>\n",
       "      <td>0</td>\n",
       "      <td>0</td>\n",
       "      <td>0</td>\n",
       "      <td>0</td>\n",
       "      <td>0</td>\n",
       "      <td>0</td>\n",
       "      <td>0</td>\n",
       "      <td>0</td>\n",
       "      <td>0</td>\n",
       "      <td>0</td>\n",
       "      <td>0</td>\n",
       "      <td>0</td>\n",
       "      <td>0</td>\n",
       "      <td>0</td>\n",
       "    </tr>\n",
       "  </tbody>\n",
       "</table>\n",
       "</div>"
      ],
      "text/plain": [
       "                                       Cuisine Style  Vegetarian Friendly  \\\n",
       "0            ['European', 'French', 'International']                    0   \n",
       "1                                       ['European']                    0   \n",
       "2  ['Japanese', 'Sushi', 'Asian', 'Grill', 'Veget...                    1   \n",
       "3                                       ['European']                    0   \n",
       "4  ['German', 'Central European', 'Vegetarian Fri...                    1   \n",
       "\n",
       "   European  Mediterranean  Italian  Vegan Options  Gluten Free Options  Bar  \\\n",
       "0         1              0        0              0                    0    0   \n",
       "1         1              0        0              0                    0    0   \n",
       "2         0              0        0              1                    1    0   \n",
       "3         1              0        0              0                    0    0   \n",
       "4         1              0        0              0                    0    0   \n",
       "\n",
       "   French  Asian  Pizza  Spanish  Pub  Cafe  Fast Food  British  \\\n",
       "0       1      0      0        0    0     0          0        0   \n",
       "1       0      0      0        0    0     0          0        0   \n",
       "2       0      1      0        0    0     0          0        0   \n",
       "3       0      0      0        0    0     0          0        0   \n",
       "4       0      0      0        0    0     0          0        0   \n",
       "\n",
       "   International  Seafood  Japanese  Central European  American  Sushi  \\\n",
       "0              1        0         0                 0         0      0   \n",
       "1              0        0         0                 0         0      0   \n",
       "2              0        0         1                 0         0      1   \n",
       "3              0        0         0                 0         0      0   \n",
       "4              0        0         0                 1         0      0   \n",
       "\n",
       "   Chinese  Portuguese  Indian  Middle Eastern  Thai  Wine Bar  German  \\\n",
       "0        0           0       0               0     0         0       0   \n",
       "1        0           0       0               0     0         0       0   \n",
       "2        0           0       0               0     0         0       0   \n",
       "3        0           0       0               0     0         0       0   \n",
       "4        0           0       0               0     0         0       1   \n",
       "\n",
       "   Healthy  Greek  Halal  Czech  Fusion  Steakhouse  Barbecue  Contemporary  \\\n",
       "0        0      0      0      0       0           0         0             0   \n",
       "1        0      0      0      0       0           0         0             0   \n",
       "2        0      0      0      0       0           0         0             0   \n",
       "3        0      0      0      0       0           0         0             0   \n",
       "4        0      0      0      0       0           0         0             0   \n",
       "\n",
       "   Vietnamese  Eastern European  Soups  Grill  Gastropub  Mexican  Turkish  \\\n",
       "0           0                 0      0      0          0        0        0   \n",
       "1           0                 0      0      0          0        0        0   \n",
       "2           0                 0      0      1          0        0        0   \n",
       "3           0                 0      0      0          0        0        0   \n",
       "4           0                 0      0      0          0        0        0   \n",
       "\n",
       "   Other cuisine  \n",
       "0              0  \n",
       "1              0  \n",
       "2              0  \n",
       "3              0  \n",
       "4              0  "
      ]
     },
     "execution_count": 32,
     "metadata": {},
     "output_type": "execute_result"
    }
   ],
   "source": [
    "Cuisine_dummies.head()"
   ]
  },
  {
   "cell_type": "markdown",
   "metadata": {},
   "source": [
    "Построим графики распределения оценок внутри каждой кухни."
   ]
  },
  {
   "cell_type": "code",
   "execution_count": 43,
   "metadata": {},
   "outputs": [
    {
     "data": {
      "image/png": "[encoded data removed]",
      "text/plain": [
       "<Figure size 1080x1080 with 48 Axes>"
      ]
     },
     "metadata": {
      "needs_background": "light"
     },
     "output_type": "display_data"
    }
   ],
   "source": [
    "df_temp = pd.concat([df_prepare['Rating'], Cuisine_dummies], axis=1)\n",
    "fig, pl = plt.subplots(8, 6, figsize=(15, 15))\n",
    "\n",
    "for ind, col in enumerate(df_temp.columns[2:], start=0):\n",
    "    pl_row, pl_col = divmod(ind, 6)\n",
    "    pl[pl_row, pl_col].hist(df_temp.Rating[df_temp[col] == 1])\n",
    "    pl[pl_row, pl_col].set_title(col)\n",
    "del df_temp"
   ]
  },
  {
   "cell_type": "markdown",
   "metadata": {},
   "source": [
    "Как в примере с городами, распредление оценок примерно одинаковое, создавать новые признаки на основе типов кухонь не будем."
   ]
  },
  {
   "cell_type": "markdown",
   "metadata": {},
   "source": [
    "Колонка Ranking. "
   ]
  },
  {
   "cell_type": "code",
   "execution_count": 116,
   "metadata": {},
   "outputs": [
    {
     "data": {
      "text/plain": [
       "count    40000.000000\n",
       "mean      3676.028525\n",
       "std       3708.749567\n",
       "min          1.000000\n",
       "25%        973.000000\n",
       "50%       2285.000000\n",
       "75%       5260.000000\n",
       "max      16444.000000\n",
       "Name: Ranking, dtype: float64"
      ]
     },
     "execution_count": 116,
     "metadata": {},
     "output_type": "execute_result"
    }
   ],
   "source": [
    "df_prepare['Ranking'].describe()"
   ]
  },
  {
   "cell_type": "markdown",
   "metadata": {},
   "source": [
    "Эта колонка содержит большие значения. Создадим признак: корень из этого значения:"
   ]
  },
  {
   "cell_type": "code",
   "execution_count": 117,
   "metadata": {},
   "outputs": [],
   "source": [
    "df_prepare['Ranking_sqrt'] = df_prepare['Ranking'].apply(lambda x: x**0.5)"
   ]
  },
  {
   "cell_type": "code",
   "execution_count": 118,
   "metadata": {},
   "outputs": [
    {
     "data": {
      "text/plain": [
       "<matplotlib.axes._subplots.AxesSubplot at 0x11bcdc48>"
      ]
     },
     "execution_count": 118,
     "metadata": {},
     "output_type": "execute_result"
    },
    {
     "data": {
      "image/png": "[encoded data removed]",
      "text/plain": [
       "<Figure size 432x288 with 1 Axes>"
      ]
     },
     "metadata": {
      "needs_background": "light"
     },
     "output_type": "display_data"
    }
   ],
   "source": [
    "df_prepare['Ranking_sqrt'].hist()"
   ]
  },
  {
   "cell_type": "markdown",
   "metadata": {},
   "source": [
    "Распределение нормальное. Колонка Rating. Проверим, что она содержит только допустимые значения:"
   ]
  },
  {
   "cell_type": "code",
   "execution_count": 40,
   "metadata": {},
   "outputs": [
    {
     "data": {
      "text/plain": [
       "array([3.5, 4. , 4.5, 5. , 3. , 2.5, 2. , 1. , 1.5])"
      ]
     },
     "execution_count": 40,
     "metadata": {},
     "output_type": "execute_result"
    }
   ],
   "source": [
    "df_prepare['Rating'].unique()"
   ]
  },
  {
   "cell_type": "markdown",
   "metadata": {},
   "source": [
    "Недопустимых значений нет. Проверим колонку Price Range:"
   ]
  },
  {
   "cell_type": "code",
   "execution_count": 44,
   "metadata": {},
   "outputs": [
    {
     "data": {
      "text/plain": [
       "$$ - $$$    18412\n",
       "$            6279\n",
       "$$$$         1423\n",
       "Name: Price Range, dtype: int64"
      ]
     },
     "execution_count": 44,
     "metadata": {},
     "output_type": "execute_result"
    }
   ],
   "source": [
    "df_prepare['Price Range'].value_counts()"
   ]
  },
  {
   "cell_type": "markdown",
   "metadata": {},
   "source": [
    "Во-первых, колонка содержит некоторые обозначения, которые не понятны алгоритму, переведем их в числовые обозначения. Во-вторых, есть пропуски, которые мы заменим значением \"Средний чек\"."
   ]
  },
  {
   "cell_type": "code",
   "execution_count": 45,
   "metadata": {},
   "outputs": [],
   "source": [
    "df_prepare['Price Range'] = df_prepare['Price Range'].fillna('$$ - $$$')\n",
    "\n",
    "price_dict = {'$': 1, '$$ - $$$': 2, '$$$$': 3}\n",
    "df_prepare['Price Range'] = df_prepare['Price Range'].map(price_dict)"
   ]
  },
  {
   "cell_type": "code",
   "execution_count": 167,
   "metadata": {},
   "outputs": [
    {
     "data": {
      "text/plain": [
       "<matplotlib.axes._subplots.AxesSubplot at 0x12cf9f48>"
      ]
     },
     "execution_count": 167,
     "metadata": {},
     "output_type": "execute_result"
    },
    {
     "data": {
      "image/png": "[encoded data removed]",
      "text/plain": [
       "<Figure size 432x288 with 1 Axes>"
      ]
     },
     "metadata": {
      "needs_background": "light"
     },
     "output_type": "display_data"
    }
   ],
   "source": [
    "df_prepare['Price Range'].hist()"
   ]
  },
  {
   "cell_type": "markdown",
   "metadata": {},
   "source": [
    "Проверим вначале колонку \"Number of Reviews\". Посмотрим на колонки с пропусками."
   ]
  },
  {
   "cell_type": "code",
   "execution_count": 46,
   "metadata": {},
   "outputs": [
    {
     "data": {
      "text/html": [
       "<div>\n",
       "<style scoped>\n",
       "    .dataframe tbody tr th:only-of-type {\n",
       "        vertical-align: middle;\n",
       "    }\n",
       "\n",
       "    .dataframe tbody tr th {\n",
       "        vertical-align: top;\n",
       "    }\n",
       "\n",
       "    .dataframe thead th {\n",
       "        text-align: right;\n",
       "    }\n",
       "</style>\n",
       "<table border=\"1\" class=\"dataframe\">\n",
       "  <thead>\n",
       "    <tr style=\"text-align: right;\">\n",
       "      <th></th>\n",
       "      <th>City</th>\n",
       "      <th>Cuisine Style</th>\n",
       "      <th>Ranking</th>\n",
       "      <th>Rating</th>\n",
       "      <th>Price Range</th>\n",
       "      <th>Number of Reviews</th>\n",
       "      <th>Reviews</th>\n",
       "    </tr>\n",
       "  </thead>\n",
       "  <tbody>\n",
       "    <tr>\n",
       "      <th>8</th>\n",
       "      <td>Vienna</td>\n",
       "      <td>['European']</td>\n",
       "      <td>2692.0</td>\n",
       "      <td>4.0</td>\n",
       "      <td>2</td>\n",
       "      <td>NaN</td>\n",
       "      <td>[[], []]</td>\n",
       "    </tr>\n",
       "    <tr>\n",
       "      <th>21</th>\n",
       "      <td>Madrid</td>\n",
       "      <td>['European']</td>\n",
       "      <td>5847.0</td>\n",
       "      <td>4.0</td>\n",
       "      <td>2</td>\n",
       "      <td>NaN</td>\n",
       "      <td>[[], []]</td>\n",
       "    </tr>\n",
       "    <tr>\n",
       "      <th>32</th>\n",
       "      <td>Budapest</td>\n",
       "      <td>['European']</td>\n",
       "      <td>1328.0</td>\n",
       "      <td>5.0</td>\n",
       "      <td>2</td>\n",
       "      <td>NaN</td>\n",
       "      <td>[['Absolutely amazing, tasty, fresh, cheap Ch....</td>\n",
       "    </tr>\n",
       "    <tr>\n",
       "      <th>102</th>\n",
       "      <td>Budapest</td>\n",
       "      <td>['French', 'European', 'Hungarian']</td>\n",
       "      <td>1410.0</td>\n",
       "      <td>5.0</td>\n",
       "      <td>2</td>\n",
       "      <td>NaN</td>\n",
       "      <td>[[], []]</td>\n",
       "    </tr>\n",
       "    <tr>\n",
       "      <th>108</th>\n",
       "      <td>Prague</td>\n",
       "      <td>['Italian', 'Mediterranean']</td>\n",
       "      <td>2050.0</td>\n",
       "      <td>5.0</td>\n",
       "      <td>2</td>\n",
       "      <td>NaN</td>\n",
       "      <td>[[], []]</td>\n",
       "    </tr>\n",
       "    <tr>\n",
       "      <th>...</th>\n",
       "      <td>...</td>\n",
       "      <td>...</td>\n",
       "      <td>...</td>\n",
       "      <td>...</td>\n",
       "      <td>...</td>\n",
       "      <td>...</td>\n",
       "      <td>...</td>\n",
       "    </tr>\n",
       "    <tr>\n",
       "      <th>39965</th>\n",
       "      <td>Rome</td>\n",
       "      <td>['European']</td>\n",
       "      <td>5722.0</td>\n",
       "      <td>5.0</td>\n",
       "      <td>2</td>\n",
       "      <td>NaN</td>\n",
       "      <td>[[], []]</td>\n",
       "    </tr>\n",
       "    <tr>\n",
       "      <th>39972</th>\n",
       "      <td>Prague</td>\n",
       "      <td>['Cafe', 'Delicatessen', 'Healthy', 'Wine Bar'...</td>\n",
       "      <td>2012.0</td>\n",
       "      <td>5.0</td>\n",
       "      <td>1</td>\n",
       "      <td>NaN</td>\n",
       "      <td>[['Personal expirence'], ['10/27/2017']]</td>\n",
       "    </tr>\n",
       "    <tr>\n",
       "      <th>39986</th>\n",
       "      <td>Madrid</td>\n",
       "      <td>['European']</td>\n",
       "      <td>7279.0</td>\n",
       "      <td>3.0</td>\n",
       "      <td>2</td>\n",
       "      <td>NaN</td>\n",
       "      <td>[[], []]</td>\n",
       "    </tr>\n",
       "    <tr>\n",
       "      <th>39988</th>\n",
       "      <td>Berlin</td>\n",
       "      <td>['European']</td>\n",
       "      <td>4970.0</td>\n",
       "      <td>4.0</td>\n",
       "      <td>2</td>\n",
       "      <td>NaN</td>\n",
       "      <td>[[], []]</td>\n",
       "    </tr>\n",
       "    <tr>\n",
       "      <th>39989</th>\n",
       "      <td>London</td>\n",
       "      <td>['International']</td>\n",
       "      <td>8896.0</td>\n",
       "      <td>5.0</td>\n",
       "      <td>2</td>\n",
       "      <td>NaN</td>\n",
       "      <td>[['I love this place!'], ['08/24/2015']]</td>\n",
       "    </tr>\n",
       "  </tbody>\n",
       "</table>\n",
       "<p>2543 rows × 7 columns</p>\n",
       "</div>"
      ],
      "text/plain": [
       "           City                                      Cuisine Style  Ranking  \\\n",
       "8        Vienna                                       ['European']   2692.0   \n",
       "21       Madrid                                       ['European']   5847.0   \n",
       "32     Budapest                                       ['European']   1328.0   \n",
       "102    Budapest                ['French', 'European', 'Hungarian']   1410.0   \n",
       "108      Prague                       ['Italian', 'Mediterranean']   2050.0   \n",
       "...         ...                                                ...      ...   \n",
       "39965      Rome                                       ['European']   5722.0   \n",
       "39972    Prague  ['Cafe', 'Delicatessen', 'Healthy', 'Wine Bar'...   2012.0   \n",
       "39986    Madrid                                       ['European']   7279.0   \n",
       "39988    Berlin                                       ['European']   4970.0   \n",
       "39989    London                                  ['International']   8896.0   \n",
       "\n",
       "       Rating  Price Range  Number of Reviews  \\\n",
       "8         4.0            2                NaN   \n",
       "21        4.0            2                NaN   \n",
       "32        5.0            2                NaN   \n",
       "102       5.0            2                NaN   \n",
       "108       5.0            2                NaN   \n",
       "...       ...          ...                ...   \n",
       "39965     5.0            2                NaN   \n",
       "39972     5.0            1                NaN   \n",
       "39986     3.0            2                NaN   \n",
       "39988     4.0            2                NaN   \n",
       "39989     5.0            2                NaN   \n",
       "\n",
       "                                                 Reviews  \n",
       "8                                               [[], []]  \n",
       "21                                              [[], []]  \n",
       "32     [['Absolutely amazing, tasty, fresh, cheap Ch....  \n",
       "102                                             [[], []]  \n",
       "108                                             [[], []]  \n",
       "...                                                  ...  \n",
       "39965                                           [[], []]  \n",
       "39972           [['Personal expirence'], ['10/27/2017']]  \n",
       "39986                                           [[], []]  \n",
       "39988                                           [[], []]  \n",
       "39989           [['I love this place!'], ['08/24/2015']]  \n",
       "\n",
       "[2543 rows x 7 columns]"
      ]
     },
     "execution_count": 46,
     "metadata": {},
     "output_type": "execute_result"
    }
   ],
   "source": [
    "df_prepare[df_prepare['Number of Reviews'].isna()]"
   ]
  },
  {
   "cell_type": "markdown",
   "metadata": {},
   "source": [
    "Пропуски там, где либо 0 значений, либо 1. Заменим пропуски значениями либо 0 либо 1:"
   ]
  },
  {
   "cell_type": "code",
   "execution_count": 47,
   "metadata": {},
   "outputs": [],
   "source": [
    "df_slice = df_prepare[df_prepare['Number of Reviews'].isna()]\n",
    "df_prepare = df_prepare.dropna(subset=['Number of Reviews'], axis=0)\n",
    "df_slice['Number of Reviews'] = df_slice['Reviews'].apply(\n",
    "    lambda x: 0 if x == \"[[], []]\" else 1)\n",
    "df_prepare = pd.concat([df_prepare, df_slice])"
   ]
  },
  {
   "cell_type": "markdown",
   "metadata": {},
   "source": [
    "Теперь можно перейти к колонке \"Reviews\". Она имеет структуру списка списков, но 'запечатаных' в строку. Достанем эту структуру из строки и разместим по отдельным строкам:"
   ]
  },
  {
   "cell_type": "code",
   "execution_count": 48,
   "metadata": {},
   "outputs": [
    {
     "ename": "NameError",
     "evalue": "name 'nan' is not defined",
     "output_type": "error",
     "traceback": [
      "\u001b[1;31m---------------------------------------------------------------------------\u001b[0m",
      "\u001b[1;31mNameError\u001b[0m                                 Traceback (most recent call last)",
      "\u001b[1;32m<ipython-input-48-9c968a913992>\u001b[0m in \u001b[0;36m<module>\u001b[1;34m\u001b[0m\n\u001b[1;32m----> 1\u001b[1;33m \u001b[0mdf_prepare\u001b[0m\u001b[1;33m[\u001b[0m\u001b[1;34m'Reviews'\u001b[0m\u001b[1;33m]\u001b[0m\u001b[1;33m.\u001b[0m\u001b[0mastype\u001b[0m\u001b[1;33m(\u001b[0m\u001b[1;34m'str'\u001b[0m\u001b[1;33m)\u001b[0m\u001b[1;33m.\u001b[0m\u001b[0mapply\u001b[0m\u001b[1;33m(\u001b[0m\u001b[1;32mlambda\u001b[0m \u001b[0mx\u001b[0m\u001b[1;33m:\u001b[0m \u001b[0meval\u001b[0m\u001b[1;33m(\u001b[0m\u001b[0mx\u001b[0m\u001b[1;33m)\u001b[0m\u001b[1;33m)\u001b[0m\u001b[1;33m\u001b[0m\u001b[1;33m\u001b[0m\u001b[0m\n\u001b[0m",
      "\u001b[1;32m~\\anaconda3\\lib\\site-packages\\pandas\\core\\series.py\u001b[0m in \u001b[0;36mapply\u001b[1;34m(self, func, convert_dtype, args, **kwds)\u001b[0m\n\u001b[0;32m   3846\u001b[0m             \u001b[1;32melse\u001b[0m\u001b[1;33m:\u001b[0m\u001b[1;33m\u001b[0m\u001b[1;33m\u001b[0m\u001b[0m\n\u001b[0;32m   3847\u001b[0m                 \u001b[0mvalues\u001b[0m \u001b[1;33m=\u001b[0m \u001b[0mself\u001b[0m\u001b[1;33m.\u001b[0m\u001b[0mastype\u001b[0m\u001b[1;33m(\u001b[0m\u001b[0mobject\u001b[0m\u001b[1;33m)\u001b[0m\u001b[1;33m.\u001b[0m\u001b[0mvalues\u001b[0m\u001b[1;33m\u001b[0m\u001b[1;33m\u001b[0m\u001b[0m\n\u001b[1;32m-> 3848\u001b[1;33m                 \u001b[0mmapped\u001b[0m \u001b[1;33m=\u001b[0m \u001b[0mlib\u001b[0m\u001b[1;33m.\u001b[0m\u001b[0mmap_infer\u001b[0m\u001b[1;33m(\u001b[0m\u001b[0mvalues\u001b[0m\u001b[1;33m,\u001b[0m \u001b[0mf\u001b[0m\u001b[1;33m,\u001b[0m \u001b[0mconvert\u001b[0m\u001b[1;33m=\u001b[0m\u001b[0mconvert_dtype\u001b[0m\u001b[1;33m)\u001b[0m\u001b[1;33m\u001b[0m\u001b[1;33m\u001b[0m\u001b[0m\n\u001b[0m\u001b[0;32m   3849\u001b[0m \u001b[1;33m\u001b[0m\u001b[0m\n\u001b[0;32m   3850\u001b[0m         \u001b[1;32mif\u001b[0m \u001b[0mlen\u001b[0m\u001b[1;33m(\u001b[0m\u001b[0mmapped\u001b[0m\u001b[1;33m)\u001b[0m \u001b[1;32mand\u001b[0m \u001b[0misinstance\u001b[0m\u001b[1;33m(\u001b[0m\u001b[0mmapped\u001b[0m\u001b[1;33m[\u001b[0m\u001b[1;36m0\u001b[0m\u001b[1;33m]\u001b[0m\u001b[1;33m,\u001b[0m \u001b[0mSeries\u001b[0m\u001b[1;33m)\u001b[0m\u001b[1;33m:\u001b[0m\u001b[1;33m\u001b[0m\u001b[1;33m\u001b[0m\u001b[0m\n",
      "\u001b[1;32mpandas\\_libs\\lib.pyx\u001b[0m in \u001b[0;36mpandas._libs.lib.map_infer\u001b[1;34m()\u001b[0m\n",
      "\u001b[1;32m<ipython-input-48-9c968a913992>\u001b[0m in \u001b[0;36m<lambda>\u001b[1;34m(x)\u001b[0m\n\u001b[1;32m----> 1\u001b[1;33m \u001b[0mdf_prepare\u001b[0m\u001b[1;33m[\u001b[0m\u001b[1;34m'Reviews'\u001b[0m\u001b[1;33m]\u001b[0m\u001b[1;33m.\u001b[0m\u001b[0mastype\u001b[0m\u001b[1;33m(\u001b[0m\u001b[1;34m'str'\u001b[0m\u001b[1;33m)\u001b[0m\u001b[1;33m.\u001b[0m\u001b[0mapply\u001b[0m\u001b[1;33m(\u001b[0m\u001b[1;32mlambda\u001b[0m \u001b[0mx\u001b[0m\u001b[1;33m:\u001b[0m \u001b[0meval\u001b[0m\u001b[1;33m(\u001b[0m\u001b[0mx\u001b[0m\u001b[1;33m)\u001b[0m\u001b[1;33m)\u001b[0m\u001b[1;33m\u001b[0m\u001b[1;33m\u001b[0m\u001b[0m\n\u001b[0m",
      "\u001b[1;32m<string>\u001b[0m in \u001b[0;36m<module>\u001b[1;34m\u001b[0m\n",
      "\u001b[1;31mNameError\u001b[0m: name 'nan' is not defined"
     ]
    }
   ],
   "source": [
    "df_prepare['Reviews'].astype('str').apply(lambda x: eval(x))"
   ]
  },
  {
   "cell_type": "markdown",
   "metadata": {},
   "source": [
    "В каких-то строках есть несоответствие, найдем их и поправим. Потребуется несколько итераций."
   ]
  },
  {
   "cell_type": "code",
   "execution_count": 49,
   "metadata": {},
   "outputs": [
    {
     "name": "stdout",
     "output_type": "stream",
     "text": [
      "[['Will certainly be back', nan], ['11/26/2017', '07/27/2017']]\n",
      "[[nan, 'Good food with decent service'], ['11/21/2017', '07/21/2017']]\n"
     ]
    }
   ],
   "source": [
    "for Review in df_prepare['Reviews']:\n",
    "    #Review = Review.replace('nan', '')\n",
    "    try:\n",
    "        temp = eval(Review)\n",
    "    except:\n",
    "        print(Review)"
   ]
  },
  {
   "cell_type": "markdown",
   "metadata": {},
   "source": [
    "Заменим все \"неправильные\" значения, заодно заменим [[], []] на [['', ''], ['', '']]. Это нам понадобится в дальнейшем. Переведем строку в список."
   ]
  },
  {
   "cell_type": "code",
   "execution_count": 50,
   "metadata": {},
   "outputs": [],
   "source": [
    "df_prepare['Reviews'] = df_prepare['Reviews'].apply(lambda x: x.replace(\n",
    "    'nan', '').replace(\"[,\", \"['',\").replace('[[], []]', \"[['', ''], ['', '']]\"))\n",
    "df_prepare['Reviews'] = df_prepare['Reviews'].apply(lambda x: eval(x))"
   ]
  },
  {
   "cell_type": "markdown",
   "metadata": {},
   "source": [
    "По аналогии с городами и типами кухонь сделаем отдельный датасет для отзывов, чтобы не загромождать основной. Разнесем даты и отзывы по отдельным колонкам:"
   ]
  },
  {
   "cell_type": "code",
   "execution_count": 51,
   "metadata": {},
   "outputs": [],
   "source": [
    "Reviews_dummies = pd.DataFrame(df_prepare['Reviews'])\n",
    "Reviews_dummies['Review_text_1'] = Reviews_dummies['Reviews'].apply(\n",
    "    lambda x: x[0][0])\n",
    "Reviews_dummies['Review_text_2'] = Reviews_dummies['Reviews'].apply(\n",
    "    lambda x: x[0][1] if len(x[0]) == 2 else '')\n",
    "Reviews_dummies['Review_date_1'] = Reviews_dummies['Reviews'].apply(\n",
    "    lambda x: x[1][0])\n",
    "Reviews_dummies['Review_date_2'] = Reviews_dummies['Reviews'].apply(\n",
    "    lambda x: x[1][1] if len(x[1]) == 2 else '')\n",
    "Reviews_dummies['Review_date_1'] = pd.to_datetime(\n",
    "    Reviews_dummies['Review_date_1'])\n",
    "Reviews_dummies['Review_date_2'] = pd.to_datetime(\n",
    "    Reviews_dummies['Review_date_2'])"
   ]
  },
  {
   "cell_type": "code",
   "execution_count": 52,
   "metadata": {},
   "outputs": [
    {
     "data": {
      "text/html": [
       "<div>\n",
       "<style scoped>\n",
       "    .dataframe tbody tr th:only-of-type {\n",
       "        vertical-align: middle;\n",
       "    }\n",
       "\n",
       "    .dataframe tbody tr th {\n",
       "        vertical-align: top;\n",
       "    }\n",
       "\n",
       "    .dataframe thead th {\n",
       "        text-align: right;\n",
       "    }\n",
       "</style>\n",
       "<table border=\"1\" class=\"dataframe\">\n",
       "  <thead>\n",
       "    <tr style=\"text-align: right;\">\n",
       "      <th></th>\n",
       "      <th>Reviews</th>\n",
       "      <th>Review_text_1</th>\n",
       "      <th>Review_text_2</th>\n",
       "      <th>Review_date_1</th>\n",
       "      <th>Review_date_2</th>\n",
       "    </tr>\n",
       "  </thead>\n",
       "  <tbody>\n",
       "    <tr>\n",
       "      <th>0</th>\n",
       "      <td>[[Good food at your doorstep, A good hotel res...</td>\n",
       "      <td>Good food at your doorstep</td>\n",
       "      <td>A good hotel restaurant</td>\n",
       "      <td>2017-12-31</td>\n",
       "      <td>2017-11-20</td>\n",
       "    </tr>\n",
       "    <tr>\n",
       "      <th>1</th>\n",
       "      <td>[[Unique cuisine, Delicious Nepalese food], [0...</td>\n",
       "      <td>Unique cuisine</td>\n",
       "      <td>Delicious Nepalese food</td>\n",
       "      <td>2017-07-06</td>\n",
       "      <td>2016-06-19</td>\n",
       "    </tr>\n",
       "    <tr>\n",
       "      <th>2</th>\n",
       "      <td>[[Catch up with friends, Not exceptional], [01...</td>\n",
       "      <td>Catch up with friends</td>\n",
       "      <td>Not exceptional</td>\n",
       "      <td>2018-01-08</td>\n",
       "      <td>2018-01-06</td>\n",
       "    </tr>\n",
       "    <tr>\n",
       "      <th>3</th>\n",
       "      <td>[[, ], [, ]]</td>\n",
       "      <td></td>\n",
       "      <td></td>\n",
       "      <td>NaT</td>\n",
       "      <td>NaT</td>\n",
       "    </tr>\n",
       "    <tr>\n",
       "      <th>4</th>\n",
       "      <td>[[Best place to try a Bavarian food, Nice buil...</td>\n",
       "      <td>Best place to try a Bavarian food</td>\n",
       "      <td>Nice building but improvements need to be...</td>\n",
       "      <td>2017-11-18</td>\n",
       "      <td>2017-02-19</td>\n",
       "    </tr>\n",
       "  </tbody>\n",
       "</table>\n",
       "</div>"
      ],
      "text/plain": [
       "                                             Reviews  \\\n",
       "0  [[Good food at your doorstep, A good hotel res...   \n",
       "1  [[Unique cuisine, Delicious Nepalese food], [0...   \n",
       "2  [[Catch up with friends, Not exceptional], [01...   \n",
       "3                                       [[, ], [, ]]   \n",
       "4  [[Best place to try a Bavarian food, Nice buil...   \n",
       "\n",
       "                       Review_text_1  \\\n",
       "0         Good food at your doorstep   \n",
       "1                     Unique cuisine   \n",
       "2              Catch up with friends   \n",
       "3                                      \n",
       "4  Best place to try a Bavarian food   \n",
       "\n",
       "                                  Review_text_2 Review_date_1 Review_date_2  \n",
       "0                       A good hotel restaurant    2017-12-31    2017-11-20  \n",
       "1                       Delicious Nepalese food    2017-07-06    2016-06-19  \n",
       "2                               Not exceptional    2018-01-08    2018-01-06  \n",
       "3                                                         NaT           NaT  \n",
       "4  Nice building but improvements need to be...    2017-11-18    2017-02-19  "
      ]
     },
     "execution_count": 52,
     "metadata": {},
     "output_type": "execute_result"
    }
   ],
   "source": [
    "Reviews_dummies.head(5)"
   ]
  },
  {
   "cell_type": "markdown",
   "metadata": {},
   "source": [
    "Для работы с отзывами нужно уметь распознавать тексты, пока отложим до лучших времен. Займемся датами. Найдем самую раннюю дату во всем датафрейме и заполним ею пропуски."
   ]
  },
  {
   "cell_type": "code",
   "execution_count": 59,
   "metadata": {},
   "outputs": [],
   "source": [
    "min_date = min(Reviews_dummies['Review_date_1'].min(),\n",
    "               Reviews_dummies['Review_date_2'].min())\n",
    "Reviews_dummies['Review_date_1'] = Reviews_dummies['Review_date_1'].fillna(\n",
    "    min_date)\n",
    "Reviews_dummies['Review_date_2'] = Reviews_dummies['Review_date_2'].fillna(\n",
    "    min_date)"
   ]
  },
  {
   "cell_type": "markdown",
   "metadata": {},
   "source": [
    "Найдем минимальное количество дней от текущей даты до последнего отзыва:"
   ]
  },
  {
   "cell_type": "code",
   "execution_count": 68,
   "metadata": {},
   "outputs": [],
   "source": [
    "now = datetime.today()\n",
    "Reviews_dummies['days_before1'] = Reviews_dummies['Review_date_1'].apply(\n",
    "    lambda x: (now-x).days)\n",
    "Reviews_dummies['days_before2'] = Reviews_dummies['Review_date_2'].apply(\n",
    "    lambda x: (now-x).days)"
   ]
  },
  {
   "cell_type": "markdown",
   "metadata": {},
   "source": [
    "Создадим еще несколько признаков:"
   ]
  },
  {
   "cell_type": "code",
   "execution_count": 71,
   "metadata": {},
   "outputs": [],
   "source": [
    "# Год отзыва\n",
    "Reviews_dummies['year1'] = Reviews_dummies['Review_date_1'].apply(\n",
    "    lambda x: x.year)\n",
    "Reviews_dummies['year2'] = Reviews_dummies['Review_date_2'].apply(\n",
    "    lambda x: x.year)"
   ]
  },
  {
   "cell_type": "code",
   "execution_count": 72,
   "metadata": {},
   "outputs": [],
   "source": [
    "# Месяц отзыва\n",
    "Reviews_dummies['month1'] = Reviews_dummies['Review_date_1'].apply(\n",
    "    lambda x: x.month)\n",
    "Reviews_dummies['month2'] = Reviews_dummies['Review_date_2'].apply(\n",
    "    lambda x: x.month)"
   ]
  },
  {
   "cell_type": "code",
   "execution_count": 73,
   "metadata": {},
   "outputs": [],
   "source": [
    "# Выходной ли день\n",
    "Reviews_dummies['weekend1'] = Reviews_dummies['Review_date_1'].apply(\n",
    "    lambda x: 1 if x.weekday() in [5, 6] else 0)\n",
    "Reviews_dummies['weekend2'] = Reviews_dummies['Review_date_2'].apply(\n",
    "    lambda x: 1 if x.weekday() in [5, 6] else 0)"
   ]
  },
  {
   "cell_type": "code",
   "execution_count": 76,
   "metadata": {},
   "outputs": [],
   "source": [
    "#Количество дней между отзывами\n",
    "Reviews_dummies['days_between_rew'] = abs(\n",
    "    (Reviews_dummies['Review_date_1'] - Reviews_dummies['Review_date_2']).dt.days)"
   ]
  },
  {
   "cell_type": "code",
   "execution_count": 80,
   "metadata": {},
   "outputs": [
    {
     "data": {
      "text/html": [
       "<div>\n",
       "<style scoped>\n",
       "    .dataframe tbody tr th:only-of-type {\n",
       "        vertical-align: middle;\n",
       "    }\n",
       "\n",
       "    .dataframe tbody tr th {\n",
       "        vertical-align: top;\n",
       "    }\n",
       "\n",
       "    .dataframe thead th {\n",
       "        text-align: right;\n",
       "    }\n",
       "</style>\n",
       "<table border=\"1\" class=\"dataframe\">\n",
       "  <thead>\n",
       "    <tr style=\"text-align: right;\">\n",
       "      <th></th>\n",
       "      <th>Reviews</th>\n",
       "      <th>Review_text_1</th>\n",
       "      <th>Review_text_2</th>\n",
       "      <th>Review_date_1</th>\n",
       "      <th>Review_date_2</th>\n",
       "      <th>days_before1</th>\n",
       "      <th>days_before2</th>\n",
       "      <th>year1</th>\n",
       "      <th>year2</th>\n",
       "      <th>month1</th>\n",
       "      <th>month2</th>\n",
       "      <th>weekend1</th>\n",
       "      <th>weekend2</th>\n",
       "      <th>days_between_rew</th>\n",
       "    </tr>\n",
       "  </thead>\n",
       "  <tbody>\n",
       "    <tr>\n",
       "      <th>0</th>\n",
       "      <td>[[Good food at your doorstep, A good hotel res...</td>\n",
       "      <td>Good food at your doorstep</td>\n",
       "      <td>A good hotel restaurant</td>\n",
       "      <td>2017-12-31</td>\n",
       "      <td>2017-11-20</td>\n",
       "      <td>1052</td>\n",
       "      <td>1093</td>\n",
       "      <td>2017</td>\n",
       "      <td>2017</td>\n",
       "      <td>12</td>\n",
       "      <td>11</td>\n",
       "      <td>1</td>\n",
       "      <td>0</td>\n",
       "      <td>41</td>\n",
       "    </tr>\n",
       "    <tr>\n",
       "      <th>1</th>\n",
       "      <td>[[Unique cuisine, Delicious Nepalese food], [0...</td>\n",
       "      <td>Unique cuisine</td>\n",
       "      <td>Delicious Nepalese food</td>\n",
       "      <td>2017-07-06</td>\n",
       "      <td>2016-06-19</td>\n",
       "      <td>1230</td>\n",
       "      <td>1612</td>\n",
       "      <td>2017</td>\n",
       "      <td>2016</td>\n",
       "      <td>7</td>\n",
       "      <td>6</td>\n",
       "      <td>0</td>\n",
       "      <td>1</td>\n",
       "      <td>382</td>\n",
       "    </tr>\n",
       "    <tr>\n",
       "      <th>2</th>\n",
       "      <td>[[Catch up with friends, Not exceptional], [01...</td>\n",
       "      <td>Catch up with friends</td>\n",
       "      <td>Not exceptional</td>\n",
       "      <td>2018-01-08</td>\n",
       "      <td>2018-01-06</td>\n",
       "      <td>1044</td>\n",
       "      <td>1046</td>\n",
       "      <td>2018</td>\n",
       "      <td>2018</td>\n",
       "      <td>1</td>\n",
       "      <td>1</td>\n",
       "      <td>0</td>\n",
       "      <td>1</td>\n",
       "      <td>2</td>\n",
       "    </tr>\n",
       "    <tr>\n",
       "      <th>3</th>\n",
       "      <td>[[, ], [, ]]</td>\n",
       "      <td></td>\n",
       "      <td></td>\n",
       "      <td>2004-04-21</td>\n",
       "      <td>2004-04-21</td>\n",
       "      <td>6054</td>\n",
       "      <td>6054</td>\n",
       "      <td>2004</td>\n",
       "      <td>2004</td>\n",
       "      <td>4</td>\n",
       "      <td>4</td>\n",
       "      <td>0</td>\n",
       "      <td>0</td>\n",
       "      <td>0</td>\n",
       "    </tr>\n",
       "    <tr>\n",
       "      <th>4</th>\n",
       "      <td>[[Best place to try a Bavarian food, Nice buil...</td>\n",
       "      <td>Best place to try a Bavarian food</td>\n",
       "      <td>Nice building but improvements need to be...</td>\n",
       "      <td>2017-11-18</td>\n",
       "      <td>2017-02-19</td>\n",
       "      <td>1095</td>\n",
       "      <td>1367</td>\n",
       "      <td>2017</td>\n",
       "      <td>2017</td>\n",
       "      <td>11</td>\n",
       "      <td>2</td>\n",
       "      <td>1</td>\n",
       "      <td>1</td>\n",
       "      <td>272</td>\n",
       "    </tr>\n",
       "  </tbody>\n",
       "</table>\n",
       "</div>"
      ],
      "text/plain": [
       "                                             Reviews  \\\n",
       "0  [[Good food at your doorstep, A good hotel res...   \n",
       "1  [[Unique cuisine, Delicious Nepalese food], [0...   \n",
       "2  [[Catch up with friends, Not exceptional], [01...   \n",
       "3                                       [[, ], [, ]]   \n",
       "4  [[Best place to try a Bavarian food, Nice buil...   \n",
       "\n",
       "                       Review_text_1  \\\n",
       "0         Good food at your doorstep   \n",
       "1                     Unique cuisine   \n",
       "2              Catch up with friends   \n",
       "3                                      \n",
       "4  Best place to try a Bavarian food   \n",
       "\n",
       "                                  Review_text_2 Review_date_1 Review_date_2  \\\n",
       "0                       A good hotel restaurant    2017-12-31    2017-11-20   \n",
       "1                       Delicious Nepalese food    2017-07-06    2016-06-19   \n",
       "2                               Not exceptional    2018-01-08    2018-01-06   \n",
       "3                                                  2004-04-21    2004-04-21   \n",
       "4  Nice building but improvements need to be...    2017-11-18    2017-02-19   \n",
       "\n",
       "   days_before1  days_before2  year1  year2  month1  month2  weekend1  \\\n",
       "0          1052          1093   2017   2017      12      11         1   \n",
       "1          1230          1612   2017   2016       7       6         0   \n",
       "2          1044          1046   2018   2018       1       1         0   \n",
       "3          6054          6054   2004   2004       4       4         0   \n",
       "4          1095          1367   2017   2017      11       2         1   \n",
       "\n",
       "   weekend2  days_between_rew  \n",
       "0         0                41  \n",
       "1         1               382  \n",
       "2         1                 2  \n",
       "3         0                 0  \n",
       "4         1               272  "
      ]
     },
     "execution_count": 80,
     "metadata": {},
     "output_type": "execute_result"
    }
   ],
   "source": [
    "Reviews_dummies.head()"
   ]
  },
  {
   "cell_type": "markdown",
   "metadata": {},
   "source": [
    "Все признаки готовы. Соберем обучающий датасет."
   ]
  },
  {
   "cell_type": "code",
   "execution_count": 109,
   "metadata": {},
   "outputs": [],
   "source": [
    "df = pd.concat([df_prepare[['Ranking_sqrt', 'Rating', 'Price Range', 'Number of Reviews']],\n",
    "                City_dummies.iloc[:, 1:32],\n",
    "                Cuisine_dummies,\n",
    "                Reviews_dummies.iloc[:, 5:]\n",
    "                ], axis=1)\n",
    "df = df.drop(['Cuisine Style'], axis=1)"
   ]
  },
  {
   "cell_type": "code",
   "execution_count": 119,
   "metadata": {},
   "outputs": [
    {
     "name": "stdout",
     "output_type": "stream",
     "text": [
      "<class 'pandas.core.frame.DataFrame'>\n",
      "Int64Index: 40000 entries, 0 to 39999\n",
      "Data columns (total 88 columns):\n",
      " #   Column               Non-Null Count  Dtype  \n",
      "---  ------               --------------  -----  \n",
      " 0   Ranking_sqrt         40000 non-null  float64\n",
      " 1   Rating               40000 non-null  float64\n",
      " 2   Price Range          40000 non-null  int64  \n",
      " 3   Number of Reviews    40000 non-null  float64\n",
      " 4   Amsterdam            40000 non-null  uint8  \n",
      " 5   Athens               40000 non-null  uint8  \n",
      " 6   Barcelona            40000 non-null  uint8  \n",
      " 7   Berlin               40000 non-null  uint8  \n",
      " 8   Bratislava           40000 non-null  uint8  \n",
      " 9   Brussels             40000 non-null  uint8  \n",
      " 10  Budapest             40000 non-null  uint8  \n",
      " 11  Copenhagen           40000 non-null  uint8  \n",
      " 12  Dublin               40000 non-null  uint8  \n",
      " 13  Edinburgh            40000 non-null  uint8  \n",
      " 14  Geneva               40000 non-null  uint8  \n",
      " 15  Hamburg              40000 non-null  uint8  \n",
      " 16  Helsinki             40000 non-null  uint8  \n",
      " 17  Krakow               40000 non-null  uint8  \n",
      " 18  Lisbon               40000 non-null  uint8  \n",
      " 19  Ljubljana            40000 non-null  uint8  \n",
      " 20  London               40000 non-null  uint8  \n",
      " 21  Luxembourg           40000 non-null  uint8  \n",
      " 22  Lyon                 40000 non-null  uint8  \n",
      " 23  Madrid               40000 non-null  uint8  \n",
      " 24  Milan                40000 non-null  uint8  \n",
      " 25  Munich               40000 non-null  uint8  \n",
      " 26  Oporto               40000 non-null  uint8  \n",
      " 27  Oslo                 40000 non-null  uint8  \n",
      " 28  Paris                40000 non-null  uint8  \n",
      " 29  Prague               40000 non-null  uint8  \n",
      " 30  Rome                 40000 non-null  uint8  \n",
      " 31  Stockholm            40000 non-null  uint8  \n",
      " 32  Vienna               40000 non-null  uint8  \n",
      " 33  Warsaw               40000 non-null  uint8  \n",
      " 34  Zurich               40000 non-null  uint8  \n",
      " 35  Vegetarian Friendly  40000 non-null  int64  \n",
      " 36  European             40000 non-null  int64  \n",
      " 37  Mediterranean        40000 non-null  int64  \n",
      " 38  Italian              40000 non-null  int64  \n",
      " 39  Vegan Options        40000 non-null  int64  \n",
      " 40  Gluten Free Options  40000 non-null  int64  \n",
      " 41  Bar                  40000 non-null  int64  \n",
      " 42  French               40000 non-null  int64  \n",
      " 43  Asian                40000 non-null  int64  \n",
      " 44  Pizza                40000 non-null  int64  \n",
      " 45  Spanish              40000 non-null  int64  \n",
      " 46  Pub                  40000 non-null  int64  \n",
      " 47  Cafe                 40000 non-null  int64  \n",
      " 48  Fast Food            40000 non-null  int64  \n",
      " 49  British              40000 non-null  int64  \n",
      " 50  International        40000 non-null  int64  \n",
      " 51  Seafood              40000 non-null  int64  \n",
      " 52  Japanese             40000 non-null  int64  \n",
      " 53  Central European     40000 non-null  int64  \n",
      " 54  American             40000 non-null  int64  \n",
      " 55  Sushi                40000 non-null  int64  \n",
      " 56  Chinese              40000 non-null  int64  \n",
      " 57  Portuguese           40000 non-null  int64  \n",
      " 58  Indian               40000 non-null  int64  \n",
      " 59  Middle Eastern       40000 non-null  int64  \n",
      " 60  Thai                 40000 non-null  int64  \n",
      " 61  Wine Bar             40000 non-null  int64  \n",
      " 62  German               40000 non-null  int64  \n",
      " 63  Healthy              40000 non-null  int64  \n",
      " 64  Greek                40000 non-null  int64  \n",
      " 65  Halal                40000 non-null  int64  \n",
      " 66  Czech                40000 non-null  int64  \n",
      " 67  Fusion               40000 non-null  int64  \n",
      " 68  Steakhouse           40000 non-null  int64  \n",
      " 69  Barbecue             40000 non-null  int64  \n",
      " 70  Contemporary         40000 non-null  int64  \n",
      " 71  Vietnamese           40000 non-null  int64  \n",
      " 72  Eastern European     40000 non-null  int64  \n",
      " 73  Soups                40000 non-null  int64  \n",
      " 74  Grill                40000 non-null  int64  \n",
      " 75  Gastropub            40000 non-null  int64  \n",
      " 76  Mexican              40000 non-null  int64  \n",
      " 77  Turkish              40000 non-null  int64  \n",
      " 78  Other cuisine        40000 non-null  int64  \n",
      " 79  days_before1         40000 non-null  int64  \n",
      " 80  days_before2         40000 non-null  int64  \n",
      " 81  year1                40000 non-null  int64  \n",
      " 82  year2                40000 non-null  int64  \n",
      " 83  month1               40000 non-null  int64  \n",
      " 84  month2               40000 non-null  int64  \n",
      " 85  weekend1             40000 non-null  int64  \n",
      " 86  weekend2             40000 non-null  int64  \n",
      " 87  days_between_rew     40000 non-null  int64  \n",
      "dtypes: float64(3), int64(54), uint8(31)\n",
      "memory usage: 18.9 MB\n"
     ]
    }
   ],
   "source": [
    "df.info()"
   ]
  },
  {
   "cell_type": "markdown",
   "metadata": {},
   "source": [
    "Мы проверили, что датасет не содержит пропуски и все колонки имеют числовой тип. Перейдем к обучению модели."
   ]
  },
  {
   "cell_type": "markdown",
   "metadata": {},
   "source": [
    "# Разбиваем датафрейм на части, необходимые для обучения и тестирования модели"
   ]
  },
  {
   "cell_type": "code",
   "execution_count": 110,
   "metadata": {},
   "outputs": [],
   "source": [
    "# Х - данные с информацией о ресторанах, у - целевая переменная (рейтинги ресторанов)\n",
    "# X = df.drop(['Restaurant_id', 'Rating'], axis = 1\n",
    "X = df.drop(['Rating'], axis=1)\n",
    "y = df['Rating']"
   ]
  },
  {
   "cell_type": "code",
   "execution_count": 92,
   "metadata": {},
   "outputs": [],
   "source": [
    "# Загружаем специальный инструмент для разбивки:\n",
    "from sklearn.model_selection import train_test_split"
   ]
  },
  {
   "cell_type": "code",
   "execution_count": 112,
   "metadata": {},
   "outputs": [],
   "source": [
    "# Наборы данных с меткой \"train\" будут использоваться для обучения модели, \"test\" - для тестирования.\n",
    "# Для тестирования мы будем использовать 25% от исходного датасета.\n",
    "X_train, X_test, y_train, y_test = train_test_split(X, y, test_size=0.25)"
   ]
  },
  {
   "cell_type": "markdown",
   "metadata": {},
   "source": [
    "# Создаём, обучаем и тестируем модель"
   ]
  },
  {
   "cell_type": "code",
   "execution_count": 94,
   "metadata": {},
   "outputs": [],
   "source": [
    "# Импортируем необходимые библиотеки:\n",
    "# инструмент для создания и обучения модели\n",
    "from sklearn.ensemble import RandomForestRegressor\n",
    "from sklearn import metrics  # инструменты для оценки точности модели"
   ]
  },
  {
   "cell_type": "code",
   "execution_count": 113,
   "metadata": {},
   "outputs": [],
   "source": [
    "# Создаём модель\n",
    "regr = RandomForestRegressor(n_estimators=100)\n",
    "\n",
    "# Обучаем модель на тестовом наборе данных\n",
    "regr.fit(X_train, y_train)\n",
    "\n",
    "# Используем обученную модель для предсказания рейтинга ресторанов в тестовой выборке.\n",
    "# Предсказанные значения записываем в переменную y_pred\n",
    "y_pred = regr.predict(X_test)"
   ]
  },
  {
   "cell_type": "code",
   "execution_count": 114,
   "metadata": {},
   "outputs": [
    {
     "name": "stdout",
     "output_type": "stream",
     "text": [
      "MAE: 0.2048375\n"
     ]
    }
   ],
   "source": [
    "# Сравниваем предсказанные значения (y_pred) с реальными (y_test), и смотрим насколько они в среднем отличаются\n",
    "# Метрика называется Mean Absolute Error (MAE) и показывает среднее отклонение предсказанных значений от фактических.\n",
    "print('MAE:', metrics.mean_absolute_error(y_test, y_pred))"
   ]
  },
  {
   "cell_type": "markdown",
   "metadata": {},
   "source": [
    "Вывод. Что бы я ни делала, получить МАЕ ниже 0.2 у меня не получается, меняется цифра только в тысячных. Видимо, выше головы не прыгнешь. Что еще можно было сделать? Можно по ссылкам из датасета \"сходить\" на страницы ресторанов и насобирать много интересных признаков. Мне понравились признаки: оценки за питание, обслуживание, цена/качество; оценки путешественников от 1 до 5; что есть в этом ресторане (бар, детские кресла и тд); специализированное меню; время работы (например до поздна, ночью и тд); имеет ли ресторан пометку \"Travellers’ Choice\". Это пока навскидку. Вполне возможно, что все эти критерии уже учтены в оценке Ranking (пока неясной для меня), тогда это была бы лишняя работа. Пока оставлю работу так."
   ]
  },
  {
   "cell_type": "code",
   "execution_count": null,
   "metadata": {},
   "outputs": [],
   "source": []
  }
 ],
 "metadata": {
  "kernelspec": {
   "display_name": "Python 3",
   "language": "python",
   "name": "python3"
  },
  "language_info": {
   "codemirror_mode": {
    "name": "ipython",
    "version": 3
   },
   "file_extension": ".py",
   "mimetype": "text/x-python",
   "name": "python",
   "nbconvert_exporter": "python",
   "pygments_lexer": "ipython3",
   "version": "3.7.6"
  }
 },
 "nbformat": 4,
 "nbformat_minor": 2
}
